{
 "cells": [
  {
   "cell_type": "markdown",
   "metadata": {},
   "source": [
    "# Práctica 8 (Árboles Binarios)\n",
    "\n",
    "* **Autor:** Axel Daniel Malváez Flores\n",
    "* **Materia:** Matemáticas Discretas\n",
    "* 5to semestre de la Licenciatura en Ciencia de Datos"
   ]
  },
  {
   "cell_type": "code",
   "execution_count": 304,
   "metadata": {},
   "outputs": [],
   "source": [
    "class Node:\n",
    "    def __init__(self, val):\n",
    "        self.val = val\n",
    "        self.left = None\n",
    "        self.right = None\n",
    "        \n",
    "        \n",
    "    def __repr__(self):\n",
    "        left = None if self.left is None else self.left.val\n",
    "        right = None if self.right is None else self.right.val\n",
    "        return f\"Valor: {self.val}\\nIzquierda: {left}\\nDerecha: {right}\"\n",
    "       \n",
    "    \n",
    "    def insert(self, x):\n",
    "        if x == self.val:\n",
    "            return\n",
    "        elif x < self.val:\n",
    "            if self.left is not None:\n",
    "                self.left.insert(x)\n",
    "            else:\n",
    "                self.left = Node(x)\n",
    "        elif x > self.val:\n",
    "            if self.right is not None:\n",
    "                self.right.insert(x)\n",
    "            else:\n",
    "                self.right = Node(x)\n",
    "                \n",
    "                \n",
    "    def search(self, x):\n",
    "        if self.val == x:\n",
    "            return self\n",
    "        \n",
    "        elif x < self.val:\n",
    "            if self.left is None:\n",
    "                return\n",
    "            else:\n",
    "                return self.left.search(x)\n",
    "            \n",
    "        elif x > self.val:\n",
    "            if self.right is None:\n",
    "                return\n",
    "            else:\n",
    "                return self.right.search(x)"
   ]
  },
  {
   "cell_type": "code",
   "execution_count": 305,
   "metadata": {},
   "outputs": [],
   "source": [
    "def in_order(root):\n",
    "    if root is not None:\n",
    "        in_order(root.left)\n",
    "        print(root.val) # aquí es donde visitamos\n",
    "        in_order(root.right)\n",
    "    else:\n",
    "        return"
   ]
  },
  {
   "cell_type": "markdown",
   "metadata": {},
   "source": [
    "# Ejercicios"
   ]
  },
  {
   "cell_type": "markdown",
   "metadata": {},
   "source": [
    "## Ejercicio 1\n",
    "\n",
    "Tenemos un BST con las siguientes reglas:\n",
    "\n",
    "* `root.val = 0`\n",
    "* Si `node.left != None` (donde `node` es un nodo arbitrario, incluyendo la raíz), y `node.val = x`, entonces `node.left.val = 2*x + 1`.\n",
    "* Si `node.right != None`, y `node.val = x`, entonces `node.right.val = 2*x + 2`.\n",
    "\n",
    "Asumiendo que tienes un árbol que sigue estas reglas (definido usando la clase `Node` previamente vista), y que no sabes el valor de ninguno de sus nodos, escribe una función que actualice el valor de todos los nodos.\n",
    "\n",
    "Pruébalo con el siguiente árbol:\n",
    "\n",
    "```\n",
    "    -1\n",
    "   /  \\\n",
    "  -1  -1\n",
    " /  \\\n",
    "-1  -1\n",
    "```"
   ]
  },
  {
   "cell_type": "code",
   "execution_count": 306,
   "metadata": {},
   "outputs": [],
   "source": [
    "root = Node(-1)\n",
    "root.left = Node(-1)\n",
    "root.left.left = Node(-1)\n",
    "root.left.right = Node(-1)\n",
    "root.right = Node(-1)"
   ]
  },
  {
   "cell_type": "markdown",
   "metadata": {},
   "source": [
    "Tu función debe de actualizar los valores a:\n",
    "\n",
    "```\n",
    "     0\n",
    "   /  \\\n",
    "  1    2\n",
    " /  \\\n",
    "3    4\n",
    "```"
   ]
  },
  {
   "cell_type": "markdown",
   "metadata": {},
   "source": [
    "El algoritmo solo va recorriendo el árbol y con la ayuda de una banderita nos podemos guiar si estamos en la raíz del árbol o si ya estamos dentro del árbol. Si nuestro nodo no es vacío lo actualizamos y dependiendo si es raíz, hijo izquierdo o hijo derecho y si además los hijos existen, entonces también actualizamos."
   ]
  },
  {
   "cell_type": "code",
   "execution_count": 307,
   "metadata": {},
   "outputs": [],
   "source": [
    "# Aquí va tu código\n",
    "def actualiza_arbol(root, contador=1):\n",
    "    if root is not None:\n",
    "        if contador == 0:\n",
    "            root.val = 0\n",
    "        if root.left is not None:\n",
    "            root.left.val = (root.val * 2) + 1\n",
    "            actualiza_arbol(root.left)\n",
    "        if root.right is not None:\n",
    "            root.right.val = (root.val * 2) + 2\n",
    "            actualiza_arbol(root.right)\n",
    "    else: \n",
    "        return"
   ]
  },
  {
   "cell_type": "code",
   "execution_count": 308,
   "metadata": {},
   "outputs": [],
   "source": [
    "actualiza_arbol(root, 0)"
   ]
  },
  {
   "cell_type": "code",
   "execution_count": 309,
   "metadata": {},
   "outputs": [
    {
     "name": "stdout",
     "output_type": "stream",
     "text": [
      "3\n",
      "1\n",
      "4\n",
      "0\n",
      "2\n"
     ]
    }
   ],
   "source": [
    "in_order(root)"
   ]
  },
  {
   "cell_type": "markdown",
   "metadata": {},
   "source": [
    "## Ejercicio 2\n",
    "\n",
    "Escribe una función para verificar si un árbol binario es un BST (i.e., que se cumplen las relaciones de menor que/mayor que para cada sub-árbol)."
   ]
  },
  {
   "cell_type": "markdown",
   "metadata": {},
   "source": [
    "*Aquí va la explicación de tu algoritmo*"
   ]
  },
  {
   "cell_type": "code",
   "execution_count": 310,
   "metadata": {},
   "outputs": [],
   "source": [
    "# Aquí va tu código\n",
    "def es_BST(tree):\n",
    "    if tree == None:\n",
    "        return True\n",
    "    if tree.left != None and tree.left.val > tree.val:\n",
    "        return False\n",
    "    if tree.right != None and tree.right.val < tree.val:\n",
    "        return False\n",
    "    if (not es_BST(tree.left) or not es_BST(tree.right)):\n",
    "        return False\n",
    "    return True"
   ]
  },
  {
   "cell_type": "markdown",
   "metadata": {},
   "source": [
    "Lo probamos con el árbol que actualizamos en el ejercicio pasado"
   ]
  },
  {
   "cell_type": "code",
   "execution_count": 311,
   "metadata": {},
   "outputs": [
    {
     "data": {
      "text/plain": [
       "False"
      ]
     },
     "execution_count": 311,
     "metadata": {},
     "output_type": "execute_result"
    }
   ],
   "source": [
    "es_BST(root)"
   ]
  },
  {
   "cell_type": "markdown",
   "metadata": {},
   "source": [
    "Lo probamos con un árbol arbitrario nuestro"
   ]
  },
  {
   "cell_type": "code",
   "execution_count": 312,
   "metadata": {},
   "outputs": [],
   "source": [
    "tree = Node(4)\n",
    "tree.insert(2)\n",
    "tree.insert(3)\n",
    "tree.insert(7)\n",
    "tree.insert(1)\n",
    "tree.insert(9)\n",
    "tree.insert(5)"
   ]
  },
  {
   "cell_type": "code",
   "execution_count": 313,
   "metadata": {},
   "outputs": [
    {
     "data": {
      "text/plain": [
       "True"
      ]
     },
     "execution_count": 313,
     "metadata": {},
     "output_type": "execute_result"
    }
   ],
   "source": [
    "es_BST(tree)"
   ]
  },
  {
   "cell_type": "code",
   "execution_count": 314,
   "metadata": {},
   "outputs": [
    {
     "name": "stdout",
     "output_type": "stream",
     "text": [
      "Valor: 9\n",
      "Izquierda: None\n",
      "Derecha: None\n"
     ]
    }
   ],
   "source": [
    "print(tree.search(9))"
   ]
  },
  {
   "cell_type": "markdown",
   "metadata": {},
   "source": [
    "## Ejercicio 3\n",
    "\n",
    "En un BST, los valores de dos nodos se intercambiaron accidentalmente. Escribe una función que encuentre estos dos nodos, y regrese el árbol a su estado original.\n",
    "\n",
    "Pruébalo con el siguiente árbol:\n",
    "\n",
    "```\n",
    "          4\n",
    "        /    \\\n",
    "       2      6\n",
    "      / \\    / \\\n",
    "     7   3  5   1\n",
    "    /            \\\n",
    "   0              8\n",
    "```   "
   ]
  },
  {
   "cell_type": "code",
   "execution_count": 315,
   "metadata": {},
   "outputs": [],
   "source": [
    "raiz = Node(4)\n",
    "\n",
    "raiz.left = Node(2)\n",
    "raiz.left.left = Node(7)\n",
    "raiz.left.right = Node(3)\n",
    "\n",
    "raiz.left.left.left = Node(0)\n",
    "\n",
    "raiz.right = Node(6)\n",
    "raiz.right.left = Node(5)\n",
    "raiz.right.right = Node(1)\n",
    "\n",
    "raiz.right.right.right = Node(8)"
   ]
  },
  {
   "cell_type": "markdown",
   "metadata": {},
   "source": [
    "Lo siguiente, ya está correcto"
   ]
  },
  {
   "cell_type": "code",
   "execution_count": 316,
   "metadata": {},
   "outputs": [],
   "source": [
    "tree = Node(4)\n",
    "tree.insert(2)\n",
    "tree.insert(1)\n",
    "tree.insert(0)\n",
    "tree.insert(3)\n",
    "tree.insert(6)\n",
    "tree.insert(5)\n",
    "tree.insert(7)\n",
    "tree.insert(8)"
   ]
  },
  {
   "cell_type": "markdown",
   "metadata": {},
   "source": [
    "El árbol correcto es:\n",
    "\n",
    "```\n",
    "          4\n",
    "        /    \\\n",
    "       2      6\n",
    "      / \\    / \\\n",
    "     1   3  5   7\n",
    "    /            \\\n",
    "   0              8\n",
    "```   "
   ]
  },
  {
   "cell_type": "code",
   "execution_count": 317,
   "metadata": {},
   "outputs": [],
   "source": [
    "def swap(x, y):\n",
    "    x.val , y.val = y.val, x.val\n",
    "    return "
   ]
  },
  {
   "cell_type": "code",
   "execution_count": 318,
   "metadata": {},
   "outputs": [],
   "source": [
    "def intercambia_en_BST(tree):\n",
    "    incorrectos = []\n",
    "    stack = []\n",
    "    nodo = tree\n",
    "    while stack != [] or nodo != None:\n",
    "        if nodo:\n",
    "            stack.append(nodo)\n",
    "            if nodo.left != None and nodo.left.val > nodo.val:\n",
    "                incorrectos.append(nodo.left)\n",
    "            if nodo.right != None and nodo.right.val < nodo.val:\n",
    "                incorrectos.append(nodo.right)\n",
    "            nodo = nodo.left\n",
    "        else:\n",
    "            nodo = stack.pop()\n",
    "            nodo = nodo.right\n",
    "    if incorrectos != []:\n",
    "        x = incorrectos[0]\n",
    "        y = incorrectos[1]\n",
    "        swap(x,y)\n",
    "    return tree"
   ]
  },
  {
   "cell_type": "code",
   "execution_count": 319,
   "metadata": {},
   "outputs": [
    {
     "name": "stdout",
     "output_type": "stream",
     "text": [
      "Este es el in-order en el árbol original:\n",
      "0\n",
      "7\n",
      "2\n",
      "3\n",
      "4\n",
      "5\n",
      "6\n",
      "1\n",
      "8\n",
      "Este es el in-order en el árbol actualizado:\n",
      "0\n",
      "1\n",
      "2\n",
      "3\n",
      "4\n",
      "5\n",
      "6\n",
      "7\n",
      "8\n"
     ]
    }
   ],
   "source": [
    "print('Este es el in-order en el árbol original:')\n",
    "in_order(raiz)\n",
    "\n",
    "print('Este es el in-order en el árbol actualizado:')\n",
    "tree = intercambia_en_BST(raiz)\n",
    "in_order(tree)"
   ]
  }
 ],
 "metadata": {
  "kernelspec": {
   "display_name": "Python 3.9.12 ('base')",
   "language": "python",
   "name": "python3"
  },
  "language_info": {
   "codemirror_mode": {
    "name": "ipython",
    "version": 3
   },
   "file_extension": ".py",
   "mimetype": "text/x-python",
   "name": "python",
   "nbconvert_exporter": "python",
   "pygments_lexer": "ipython3",
   "version": "3.9.12"
  },
  "orig_nbformat": 4,
  "vscode": {
   "interpreter": {
    "hash": "6c0cb1f488f15cea3c982386fe947dc4e34776dbf252a008d041bec8bc285b28"
   }
  }
 },
 "nbformat": 4,
 "nbformat_minor": 2
}
