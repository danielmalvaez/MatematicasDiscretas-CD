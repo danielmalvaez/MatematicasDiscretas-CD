{
 "cells": [
  {
   "cell_type": "markdown",
   "metadata": {},
   "source": [
    "# Práctica 1 (Inducción)\n",
    "\n",
    "* **Autor:** Axel Daniel Malváez Flores\n",
    "* **Materia:** Matemáticas Discretas\n",
    "* 5to semestre de la Licenciatura en Ciencia de Datos"
   ]
  },
  {
   "cell_type": "markdown",
   "metadata": {},
   "source": [
    "## Ejercicio 1\n",
    "\n",
    "Considera la fórmula:\n",
    "\n",
    "$$\n",
    "f(n) = 5^n-1, \\qquad n\\geq 1.\n",
    "$$\n",
    "\n",
    "* Escribe una función para encontrar el valor de $f(n)$ para $n$ arbitraria, que regrese un error si $n$ se sale del dominio.\n",
    "* Utilizando tu función, encuentra para cuáles $n$ $f(n)$ es divisible por 3. Realiza una conjetura y demuéstrala por inducción.\n",
    "* Haz lo mismo pero ahora para $f(n)$ divisible por 21."
   ]
  },
  {
   "cell_type": "code",
   "execution_count": 11,
   "metadata": {},
   "outputs": [],
   "source": [
    "def func1(n):\n",
    "    if n < 1:\n",
    "        print('La n no corresponde con el dominio esperado, try again...')\n",
    "        return\n",
    "    formula = (5**n) -1\n",
    "    return formula"
   ]
  },
  {
   "cell_type": "code",
   "execution_count": 12,
   "metadata": {},
   "outputs": [
    {
     "name": "stdout",
     "output_type": "stream",
     "text": [
      "2 es divisible\n",
      "4 es divisible\n",
      "6 es divisible\n",
      "8 es divisible\n",
      "10 es divisible\n",
      "12 es divisible\n",
      "14 es divisible\n",
      "16 es divisible\n",
      "18 es divisible\n",
      "20 es divisible\n",
      "22 es divisible\n",
      "24 es divisible\n",
      "26 es divisible\n",
      "28 es divisible\n",
      "30 es divisible\n"
     ]
    }
   ],
   "source": [
    "# Usando la función para encontrar un patrón \n",
    "for i in range(1,32):\n",
    "    if (func1(i)) % 3 == 0:\n",
    "        print(f'{i} es divisible')"
   ]
  },
  {
   "cell_type": "markdown",
   "metadata": {},
   "source": [
    "### Conjetura: Se cumple que para las $n$ múltiplos de 2, $f(n)$ es divisible por 3.\n",
    "\n",
    "**Demostración**\n",
    "\n",
    "**Base:**\n",
    "\n",
    "Sea $n = 2$, entonces:\n",
    "$$5^2 - 1 = 24$$\n",
    "y como $24/3 = 8$, entonces se cumple que $f(2)$ es divisible por 3.\n",
    "\n",
    "**Hipótesis Inductiva:**\n",
    "\n",
    "Supongamos que para un $n = 2k$ con $k\\in \\mathbb{N}$, se cumple que $f(n)$ es divisible por 3, es decir:\n",
    "$$ 5^{2k} - 1 \\equiv_{3} 0$$\n",
    "\n",
    "\n",
    "**Paso Inductivo:**\n",
    "\n",
    "\n",
    "Sea $m = n + 2$. Entonces:\n",
    "$$5^m - 1 = 5^{n+2}-1 = 5^{2k+2} - 1 = 5^{2k}*5^{2} - 1 = 5^{2k}*25 - 1 = 5^{2k}\\cdot(1+24) - 1 = 5^{2k}\\cdot 24 + 5^{2k} - 1$$\n",
    "\n",
    "Notemos que si agrupamos tenemos:\n",
    "\n",
    "$$ 5^{2k}24 + (5^{2k} - 1) $$\n",
    "\n",
    "y en particular notemos que $5^{2k}24 \\equiv_3 0$, esto pues $24 = 8\\cdot 3$ y así:\n",
    "\n",
    "$$5^{2k} \\cdot 8\\equiv_3 0$$\n",
    "\n",
    "lo cual es un número entero y por **Hipótesis Inductiva**, tenemos que $5^{2k} - 1 \\equiv_3 0$, por lo tanto:\n",
    "\n",
    "$$ 5^{2k+2} - 1 \\equiv_3 0$$\n",
    "\n",
    "Q.E.D\n"
   ]
  },
  {
   "cell_type": "code",
   "execution_count": 13,
   "metadata": {},
   "outputs": [
    {
     "name": "stdout",
     "output_type": "stream",
     "text": [
      "6 es divisible\n",
      "12 es divisible\n",
      "18 es divisible\n",
      "24 es divisible\n",
      "30 es divisible\n",
      "36 es divisible\n",
      "42 es divisible\n",
      "48 es divisible\n"
     ]
    }
   ],
   "source": [
    "# Usando la función para encontrar un patrón\n",
    "for i in range(1,50):\n",
    "    if(func1(i) % 21 == 0):\n",
    "        print(f'{i} es divisible')"
   ]
  },
  {
   "cell_type": "markdown",
   "metadata": {},
   "source": [
    "#### Conjetura: Se cumple que para las $n$ múltiplos de 6, $f(n)$ es divisible por 21.\n",
    "\n",
    "**Demostración**\n",
    "\n",
    "**Base:**\n",
    "\n",
    "Sea $n = 6$, entonces:\n",
    "$$5^6 - 1 = 15624$$\n",
    "y como $15624/21 = 744$, entonces se cumple que $f(6)$ es divisible por 21.\n",
    "\n",
    "**Hipótesis Inductiva:**\n",
    "\n",
    "Supongamos que para un $n = 6k$ con $k\\in \\mathbb{N}$, se cumple que $f(n)$ es divisible por 21, es decir:\n",
    "$$ 5^{6k} - 1 \\equiv_{21} 0$$\n",
    "\n",
    "\n",
    "**Paso Inductivo:**\n",
    "\n",
    "\n",
    "Sea $m = n + 6$. Entonces:\n",
    "$$5^m - 1 = 5^{n+6}-1 = 5^{6k+6} - 1 = 5^{6k}*5^{6} - 1 = 5^{6k}*15625 - 1 = 5^{6k}\\cdot(1+15624) - 1 = 5^{6k}\\cdot 15624 + 5^{6k} - 1$$\n",
    "\n",
    "Notemos que si agrupamos tenemos:\n",
    "\n",
    "$$ 5^{6k}\\cdot 15624 + (5^{6k} - 1)$$\n",
    "\n",
    "y en particular notemos que $5^{6k}\\cdot 15624 \\equiv_{21} 0$, esto pues $15624 = 744\\cdot 21$ y así:\n",
    "\n",
    "$$5^{6k}\\cdot 744 \\equiv_{21} 0$$\n",
    "\n",
    "lo cual es un número entero y por **Hipótesis Inductiva**, tenemos que $5^{6k} - 1 \\equiv_{21} 0$, por lo tanto:\n",
    "\n",
    "$$ 5^{6k+6} - 1 \\equiv_{21} 0$$\n",
    "\n",
    "Q.E.D"
   ]
  },
  {
   "cell_type": "markdown",
   "metadata": {},
   "source": [
    "## Ejercicio 2\n",
    "\n",
    "Considera la suma:\n",
    "\n",
    "$$\n",
    "\\frac{1}{1\\cdot 2} + \\frac{1}{2\\cdot 3} + \\frac{1}{3\\cdot 4} + \\cdots + \\frac{1}{n\\cdot (n+1)}, \\qquad n\\geq 1\n",
    "$$\n",
    "\n",
    "* Escribe una función que te permita calcular el valor de la suma para $n$ arbitraria, que regrese un error si $n$ se sale del dominio.\n",
    "* Utiliza esta función y un bucle para intentar encontrar un patrón para $n$ pequeña.\n",
    "* Conjetura una fórmula cerrada basada en tus resultados y demuéstrala por inducción.\n",
    "* Utilizando esta fórmula, encuentra el valor de la suma para $n=123,456$"
   ]
  },
  {
   "cell_type": "code",
   "execution_count": 14,
   "metadata": {},
   "outputs": [],
   "source": [
    "def func2(n):\n",
    "    if n < 1:\n",
    "        print('La n no corresponde con el dominio esperado, try again...')\n",
    "        return\n",
    "    sum = 0\n",
    "    for i in range(1,n+1):\n",
    "        sum += 1/(i * (i+1))\n",
    "    return sum"
   ]
  },
  {
   "cell_type": "code",
   "execution_count": 15,
   "metadata": {},
   "outputs": [
    {
     "name": "stdout",
     "output_type": "stream",
     "text": [
      "0.5\n",
      "0.6666666666666666\n",
      "0.75\n",
      "0.8\n",
      "0.8333333333333334\n",
      "0.8571428571428572\n",
      "0.8750000000000001\n",
      "0.888888888888889\n",
      "0.9\n",
      "0.9090909090909091\n",
      "0.9166666666666666\n",
      "0.923076923076923\n",
      "0.9285714285714285\n",
      "0.9333333333333332\n",
      "0.9374999999999999\n",
      "0.9411764705882352\n",
      "0.9444444444444443\n",
      "0.9473684210526314\n",
      "0.9499999999999998\n"
     ]
    }
   ],
   "source": [
    "for i in range(1,20):\n",
    "    print(func2(i))"
   ]
  },
  {
   "cell_type": "markdown",
   "metadata": {},
   "source": [
    "### Conjetura: la suma $\\frac{1}{1\\cdot 2} + \\frac{1}{2\\cdot 3} + \\frac{1}{3\\cdot 4} + \\cdots + \\frac{1}{n\\cdot (n+1)} = \\frac{n}{n+1}$ \n",
    "\n",
    "**Demostración**\n",
    "\n",
    "**Base:**\n",
    "\n",
    "Sea $n = 1$, entonces:\n",
    "\n",
    "$$\\frac{1}{1\\cdot 2} = \\frac{1}{2} = \\frac{1}{1+1}$$\n",
    "\n",
    "por tanto el caso base lo cumple.\n",
    "\n",
    "\n",
    "**Hipótesis Inductiva:**\n",
    "\n",
    "Supongamos que para $n\\in \\mathbb{N}\\setminus \\{0\\}$, la suma es \n",
    "\n",
    "$$\\frac{1}{1\\cdot 2} + \\frac{1}{2\\cdot 3} + \\frac{1}{3\\cdot 4} + \\cdots + \\frac{1}{n\\cdot (n+1)} = \\frac{n}{n+1}$$\n",
    "\n",
    "\n",
    "**Paso Inductivo:**\n",
    "\n",
    "P.D. Que para $n+1$, la suma es $\\frac{n+1}{n+2}$. Sea entonces la suma:\n",
    "\n",
    "$$\\frac{1}{1\\cdot 2} + \\frac{1}{2\\cdot 3} + \\frac{1}{3\\cdot 4} + \\cdots + \\frac{1}{n\\cdot (n+1)} + \\frac{1}{(n+1)\\cdot (n+2)}$$\n",
    "\n",
    "Agrupando notemos que nos queda:\n",
    "\n",
    "$$\\left(\\frac{1}{1\\cdot 2} + \\frac{1}{2\\cdot 3} + \\frac{1}{3\\cdot 4} + \\cdots + \\frac{1}{n\\cdot (n+1)}\\right) + \\frac{1}{(n+1)\\cdot (n+2)}$$\n",
    "\n",
    "lo cual por **Hipótesis Inductiva** tenemos:\n",
    "\n",
    "$$\\frac{n}{n+1} + \\frac{1}{(n+1)\\cdot (n+2)} = \\frac{n(n+2)}{(n+1)(n+2)} + \\frac{1}{(n+1)\\cdot (n+2)} = \\frac{n(n+2) + 1}{(n+1)(n+2)} = \\frac{n^2 + 2n + 1}{(n+1)(n+2)} = \\frac{(n+1)^2}{(n+1)(n+2)} = \\frac{n+1}{n+2}$$\n",
    "\n",
    "Q.E.D"
   ]
  },
  {
   "cell_type": "code",
   "execution_count": 16,
   "metadata": {},
   "outputs": [
    {
     "name": "stdout",
     "output_type": "stream",
     "text": [
      "0.99999190001377\n"
     ]
    }
   ],
   "source": [
    "# Suma constante de 123456\n",
    "print(123456/123457)"
   ]
  },
  {
   "cell_type": "code",
   "execution_count": 8,
   "metadata": {},
   "outputs": [],
   "source": [
    "def fibonacci(n):\n",
    "    if n == 0:\n",
    "        return 0\n",
    "    elif n == 1:\n",
    "        return 1\n",
    "    else:\n",
    "        fn = (fibonacci(n-1) + fibonacci(n-2))\n",
    "        return fn"
   ]
  },
  {
   "cell_type": "code",
   "execution_count": 11,
   "metadata": {},
   "outputs": [
    {
     "data": {
      "text/plain": [
       "[0,\n",
       " 1,\n",
       " 1,\n",
       " 2,\n",
       " 3,\n",
       " 5,\n",
       " 8,\n",
       " 13,\n",
       " 21,\n",
       " 34,\n",
       " 55,\n",
       " 89,\n",
       " 144,\n",
       " 233,\n",
       " 377,\n",
       " 610,\n",
       " 987,\n",
       " 1597,\n",
       " 2584,\n",
       " 4181]"
      ]
     },
     "execution_count": 11,
     "metadata": {},
     "output_type": "execute_result"
    }
   ],
   "source": [
    "# Usando la función para encontrar un patrón \n",
    "fiboList = []\n",
    "n = 20\n",
    "for i in range(n):\n",
    "    fiboList.append(fibonacci(i))\n",
    "\n",
    "fiboList"
   ]
  },
  {
   "cell_type": "code",
   "execution_count": 12,
   "metadata": {},
   "outputs": [
    {
     "name": "stdout",
     "output_type": "stream",
     "text": [
      "0 es divisible por 7\n",
      "21 es divisible por 7\n",
      "987 es divisible por 7\n"
     ]
    }
   ],
   "source": [
    "# Usando la función para encontrar un patrón \n",
    "for i in fiboList:\n",
    "    if i % 7 == 0:\n",
    "        print(f'{i} es divisible por 7')"
   ]
  },
  {
   "cell_type": "code",
   "execution_count": 14,
   "metadata": {},
   "outputs": [
    {
     "data": {
      "text/plain": [
       "21"
      ]
     },
     "execution_count": 14,
     "metadata": {},
     "output_type": "execute_result"
    }
   ],
   "source": [
    "fibonacci(8)"
   ]
  },
  {
   "cell_type": "code",
   "execution_count": 25,
   "metadata": {},
   "outputs": [],
   "source": [
    "import numpy as np\n",
    "def fibonacci_raiz(n):\n",
    "    f = ( ( (1 + np.sqrt(5)) /2)**n - ( (1 - np.sqrt(5)) /2)**n ) / (np.sqrt(5))\n",
    "    return int(f)"
   ]
  },
  {
   "cell_type": "code",
   "execution_count": 26,
   "metadata": {},
   "outputs": [
    {
     "data": {
      "text/plain": [
       "2"
      ]
     },
     "execution_count": 26,
     "metadata": {},
     "output_type": "execute_result"
    }
   ],
   "source": [
    "fibonacci_raiz(3)"
   ]
  }
 ],
 "metadata": {
  "kernelspec": {
   "display_name": "Python 3.9.12 ('base')",
   "language": "python",
   "name": "python3"
  },
  "language_info": {
   "codemirror_mode": {
    "name": "ipython",
    "version": 3
   },
   "file_extension": ".py",
   "mimetype": "text/x-python",
   "name": "python",
   "nbconvert_exporter": "python",
   "pygments_lexer": "ipython3",
   "version": "3.9.12"
  },
  "orig_nbformat": 4,
  "vscode": {
   "interpreter": {
    "hash": "6c0cb1f488f15cea3c982386fe947dc4e34776dbf252a008d041bec8bc285b28"
   }
  }
 },
 "nbformat": 4,
 "nbformat_minor": 2
}
