{
 "cells": [
  {
   "cell_type": "markdown",
   "metadata": {},
   "source": [
    "# Práctica 7 (OOP)\n",
    "\n",
    "* **Autor:** Axel Daniel Malváez Flores\n",
    "* **Materia:** Matemáticas Discretas\n",
    "* 5to semestre de la Licenciatura en Ciencia de Datos"
   ]
  },
  {
   "cell_type": "markdown",
   "metadata": {},
   "source": [
    "## Ejercicios"
   ]
  },
  {
   "cell_type": "markdown",
   "metadata": {},
   "source": [
    "### Ejercicio 1\n",
    "\n",
    "Escribe una clase `RationalNumber` utilizada para representar un número racional. \n",
    "\n",
    "* Debe de tener los siguientes atributos:\n",
    "\n",
    "    * `num`: El numerador del número.\n",
    "    * `den`: El denominador del número.\n",
    "\n",
    "* El constructor debe de tener la siguiente forma: \n",
    "\n",
    "    ```\n",
    "    RationalNumber.__init__(num, den=1)\n",
    "    ```\n",
    "    \n",
    "Donde `num` y `den` son números enteros. Si no lo son, debe de tirar un error. Si `den` es cero, debe de tirar un error. \n",
    "\n",
    "El valor por defecto nos dice que es posible pasarle solo el numerador, con un denominador implícito de 1 (i.e., `5` se vuelve `5/1`).\n",
    "\n",
    "* Escribe los *dunders* necesarios para:\n",
    "\n",
    "    * Sumar, restar, multiplicar y dividir dos números, de tal manera que el resultado siempre sea un número racional. Si no es posible hacerlo, debe de tirar un error. Por conveniencia, asume que solo es posible operar racionales con racionales, y racionales con enteros.\n",
    "    * Calcular la potencia, de modo que regrese un número racional.\n",
    "    * Imprimir el número, de la forma \"`num/den`\"\n",
    "    * Comprobar si dos números racionales son iguales. Este debe de tomar en cuenta la posibilidad de que no estén reducidos (i.e., `1/2` debe ser igual a `2/4`).\n",
    "    * Revisar si un número racional es menor que otro. Haz lo mismo para mayor que; menor que o igual; y mayor que o igual. De nuevo, existe la posibilidad de que no estén reducidos.\n",
    "    * Convertir el número a su correspondiente número de punto flotante. Por ejemplo, `1/2` se volvería `0.5`.\n",
    "\n",
    "* Escribe un método `reduce()` para reducir el número a su *fracción irreducible*. Por ejemplo, `3/6` se reduciría a `1/2`; y `6/8` a `3/4`.\n",
    "\n",
    "* Escribe un método `inv()` para calcular el inverso del número, de modo que regrese un número racional."
   ]
  },
  {
   "cell_type": "code",
   "execution_count": 118,
   "metadata": {},
   "outputs": [],
   "source": [
    "class RationalNumber():\n",
    "    \n",
    "    def __init__(self,num,den=1):\n",
    "        assert type(num) == int and type(den) == int, 'No son números enteros'\n",
    "        assert den != 0, 'No se puede dividir entre cero'\n",
    "        self.num = num\n",
    "        self.den = den\n",
    "\n",
    "    def __add__(self, other):\n",
    "        if type(other) != RationalNumber :\n",
    "            other = RationalNumber(other)\n",
    "        return RationalNumber(self.num * other.den + self.den * other.num, self.den * other.den)\n",
    "\n",
    "    def __sub__(self, other):\n",
    "        if type(other) != RationalNumber :\n",
    "            other = RationalNumber(other)        \n",
    "        return RationalNumber(self.num * other.den - self.den * other.num, self.den * other.den)\n",
    "\n",
    "    def __mul__(self, other):\n",
    "        if type(other) != RationalNumber :\n",
    "            other = RationalNumber(other)  \n",
    "        return RationalNumber(self.num * other.num, self.den * other.den)\n",
    "        \n",
    "    def __truediv__(self,other):\n",
    "        if type(other) != RationalNumber :\n",
    "            other = RationalNumber(other)  \n",
    "        return RationalNumber(self.num * other.den, self.den * other.num)\n",
    "\n",
    "    def __pow__(self,other):\n",
    "        if type(other) == int:\n",
    "            return RationalNumber(self.num ** other, self.den ** other)\n",
    "        elif other.den == 1:\n",
    "            return RationalNumber(self.num ** other.num, self.den ** other.num)\n",
    "        elif other.num == other.den:\n",
    "            return self\n",
    "        else:\n",
    "            return RationalNumber(self.num ** (other.num / other.den), self.den ** (other.num / other.den))\n",
    "\n",
    "    def __repr__(self):\n",
    "        return f\"{self.num}/{self.den}\"\n",
    "\n",
    "    def __eq__(self,other):\n",
    "        if type(other) != RationalNumber :\n",
    "            other = RationalNumber(other)\n",
    "        if self.num * other.den == self.den * other.num:\n",
    "            return True \n",
    "        else: return False\n",
    "    \n",
    "    def __lt__(self,other):\n",
    "        if type(other) != RationalNumber :\n",
    "            other = RationalNumber(other)\n",
    "        if self.num * other.den < self.den * other.num:\n",
    "            return True \n",
    "        else: return False\n",
    "\n",
    "    def __gt__(self,other):\n",
    "        if type(other) != RationalNumber :\n",
    "            other = RationalNumber(other)\n",
    "        if self.num * other.den > self.den * other.num:\n",
    "            return True \n",
    "        else: return False\n",
    "\n",
    "    def __le__(self,other):\n",
    "        if type(other) != RationalNumber :\n",
    "            other = RationalNumber(other)\n",
    "        if self.num * other.den <= self.den * other.num:\n",
    "            return True \n",
    "        else: return False\n",
    "\n",
    "    def __ge__(self,other):\n",
    "        if type(other) != RationalNumber :\n",
    "            other = RationalNumber(other)\n",
    "        if self.num * other.den >= self.den * other.num:\n",
    "            return True \n",
    "        else: return False\n",
    "    \n",
    "    def to_float(self):\n",
    "        return self.num/self.den\n",
    "\n",
    "    def reduce(self):\n",
    "        a,b = self.num, self.den\n",
    "        while b != 0 :\n",
    "            a,b = b, a%b\n",
    "        mcd = a \n",
    "        self.num = self.num//mcd\n",
    "        self.den = self.den//mcd \n",
    "\n",
    "    def inv(self):\n",
    "        return RationalNumber(self.den,self.num)\n",
    "    "
   ]
  },
  {
   "cell_type": "markdown",
   "metadata": {},
   "source": [
    "## Pruebas"
   ]
  },
  {
   "cell_type": "markdown",
   "metadata": {},
   "source": [
    "Suma"
   ]
  },
  {
   "cell_type": "code",
   "execution_count": 119,
   "metadata": {},
   "outputs": [
    {
     "data": {
      "text/plain": [
       "11/4"
      ]
     },
     "execution_count": 119,
     "metadata": {},
     "output_type": "execute_result"
    }
   ],
   "source": [
    "x = RationalNumber(3,4)\n",
    "y = RationalNumber(2)\n",
    "z = x + y\n",
    "z"
   ]
  },
  {
   "cell_type": "markdown",
   "metadata": {},
   "source": [
    "Resta"
   ]
  },
  {
   "cell_type": "code",
   "execution_count": 120,
   "metadata": {},
   "outputs": [
    {
     "data": {
      "text/plain": [
       "-13/24"
      ]
     },
     "execution_count": 120,
     "metadata": {},
     "output_type": "execute_result"
    }
   ],
   "source": [
    "x = RationalNumber(2,3)\n",
    "y = RationalNumber(1,8)\n",
    "z = y - x\n",
    "z"
   ]
  },
  {
   "cell_type": "markdown",
   "metadata": {},
   "source": [
    "Multiplicación"
   ]
  },
  {
   "cell_type": "code",
   "execution_count": 121,
   "metadata": {},
   "outputs": [
    {
     "data": {
      "text/plain": [
       "10/54"
      ]
     },
     "execution_count": 121,
     "metadata": {},
     "output_type": "execute_result"
    }
   ],
   "source": [
    "x = RationalNumber(5,6)\n",
    "y = RationalNumber(2,9)\n",
    "z = x * y\n",
    "z"
   ]
  },
  {
   "cell_type": "markdown",
   "metadata": {},
   "source": [
    "División"
   ]
  },
  {
   "cell_type": "code",
   "execution_count": 122,
   "metadata": {},
   "outputs": [
    {
     "data": {
      "text/plain": [
       "5/4"
      ]
     },
     "execution_count": 122,
     "metadata": {},
     "output_type": "execute_result"
    }
   ],
   "source": [
    "x = RationalNumber(5,2)\n",
    "y = RationalNumber(2)\n",
    "z = x / y\n",
    "z"
   ]
  },
  {
   "cell_type": "markdown",
   "metadata": {},
   "source": [
    "Potencia"
   ]
  },
  {
   "cell_type": "code",
   "execution_count": 123,
   "metadata": {},
   "outputs": [
    {
     "data": {
      "text/plain": [
       "5/4"
      ]
     },
     "execution_count": 123,
     "metadata": {},
     "output_type": "execute_result"
    }
   ],
   "source": [
    "x = RationalNumber(5,2)\n",
    "y = RationalNumber(2)\n",
    "z = x / y\n",
    "z"
   ]
  },
  {
   "cell_type": "markdown",
   "metadata": {},
   "source": [
    "Tricotomía"
   ]
  },
  {
   "cell_type": "code",
   "execution_count": 124,
   "metadata": {},
   "outputs": [
    {
     "name": "stdout",
     "output_type": "stream",
     "text": [
      "¿x = y? False\n",
      "¿x = z? True\n",
      "¿x < y? True\n",
      "¿x > y? False\n",
      "¿x < z? False\n",
      "¿x > z? False\n",
      "¿x ≥ z? True\n",
      "¿x ≤ z? True\n"
     ]
    }
   ],
   "source": [
    "x = RationalNumber(5,2)\n",
    "y = RationalNumber(9,3)\n",
    "z = RationalNumber(5,2)\n",
    "\n",
    "w = x == y\n",
    "v = x == z\n",
    "\n",
    "a = x < y\n",
    "c = x > y\n",
    "b = x < z\n",
    "d = x > z\n",
    "\n",
    "\n",
    "e = x <= z\n",
    "f = x >= z\n",
    "\n",
    "print(f'¿x = y? {w}')\n",
    "print(f'¿x = z? {v}')\n",
    "\n",
    "print(f'¿x < y? {a}')\n",
    "print(f'¿x > y? {c}')\n",
    "print(f'¿x < z? {b}')\n",
    "print(f'¿x > z? {d}')\n",
    "\n",
    "print(f'¿x ≥ z? {e}')\n",
    "print(f'¿x ≤ z? {f}')"
   ]
  },
  {
   "cell_type": "markdown",
   "metadata": {},
   "source": [
    "Conversión a flotante"
   ]
  },
  {
   "cell_type": "code",
   "execution_count": 125,
   "metadata": {},
   "outputs": [
    {
     "data": {
      "text/plain": [
       "4.75"
      ]
     },
     "execution_count": 125,
     "metadata": {},
     "output_type": "execute_result"
    }
   ],
   "source": [
    "x = RationalNumber(19,4)\n",
    "z = x.to_float()\n",
    "z"
   ]
  },
  {
   "cell_type": "markdown",
   "metadata": {},
   "source": [
    "Reducir"
   ]
  },
  {
   "cell_type": "code",
   "execution_count": 126,
   "metadata": {},
   "outputs": [
    {
     "data": {
      "text/plain": [
       "5/4"
      ]
     },
     "execution_count": 126,
     "metadata": {},
     "output_type": "execute_result"
    }
   ],
   "source": [
    "x = RationalNumber(80,64)\n",
    "x.reduce()\n",
    "x"
   ]
  },
  {
   "cell_type": "markdown",
   "metadata": {},
   "source": [
    "Inverso"
   ]
  },
  {
   "cell_type": "code",
   "execution_count": 127,
   "metadata": {},
   "outputs": [
    {
     "data": {
      "text/plain": [
       "7/2"
      ]
     },
     "execution_count": 127,
     "metadata": {},
     "output_type": "execute_result"
    }
   ],
   "source": [
    "x = RationalNumber(2,7)\n",
    "y = x.inv()\n",
    "y"
   ]
  },
  {
   "cell_type": "markdown",
   "metadata": {},
   "source": [
    "Algunos errores"
   ]
  },
  {
   "cell_type": "code",
   "execution_count": 128,
   "metadata": {},
   "outputs": [
    {
     "ename": "AssertionError",
     "evalue": "No son números enteros",
     "output_type": "error",
     "traceback": [
      "\u001b[0;31m---------------------------------------------------------------------------\u001b[0m",
      "\u001b[0;31mAssertionError\u001b[0m                            Traceback (most recent call last)",
      "\u001b[1;32m/Users/Daniel/Documentos/School/DataScience/5thSemester/Discrete/Jupyter/Practica7(OOP).ipynb Cell 25\u001b[0m in \u001b[0;36m<cell line: 1>\u001b[0;34m()\u001b[0m\n\u001b[0;32m----> <a href='vscode-notebook-cell:/Users/Daniel/Documentos/School/DataScience/5thSemester/Discrete/Jupyter/Practica7%28OOP%29.ipynb#X42sZmlsZQ%3D%3D?line=0'>1</a>\u001b[0m x \u001b[39m=\u001b[39m RationalNumber(\u001b[39m3.5\u001b[39;49m)\n",
      "\u001b[1;32m/Users/Daniel/Documentos/School/DataScience/5thSemester/Discrete/Jupyter/Practica7(OOP).ipynb Cell 25\u001b[0m in \u001b[0;36mRationalNumber.__init__\u001b[0;34m(self, num, den)\u001b[0m\n\u001b[1;32m      <a href='vscode-notebook-cell:/Users/Daniel/Documentos/School/DataScience/5thSemester/Discrete/Jupyter/Practica7%28OOP%29.ipynb#X42sZmlsZQ%3D%3D?line=2'>3</a>\u001b[0m \u001b[39mdef\u001b[39;00m \u001b[39m__init__\u001b[39m(\u001b[39mself\u001b[39m,num,den\u001b[39m=\u001b[39m\u001b[39m1\u001b[39m):\n\u001b[0;32m----> <a href='vscode-notebook-cell:/Users/Daniel/Documentos/School/DataScience/5thSemester/Discrete/Jupyter/Practica7%28OOP%29.ipynb#X42sZmlsZQ%3D%3D?line=3'>4</a>\u001b[0m     \u001b[39massert\u001b[39;00m \u001b[39mtype\u001b[39m(num) \u001b[39m==\u001b[39m \u001b[39mint\u001b[39m \u001b[39mand\u001b[39;00m \u001b[39mtype\u001b[39m(den) \u001b[39m==\u001b[39m \u001b[39mint\u001b[39m, \u001b[39m'\u001b[39m\u001b[39mNo son números enteros\u001b[39m\u001b[39m'\u001b[39m\n\u001b[1;32m      <a href='vscode-notebook-cell:/Users/Daniel/Documentos/School/DataScience/5thSemester/Discrete/Jupyter/Practica7%28OOP%29.ipynb#X42sZmlsZQ%3D%3D?line=4'>5</a>\u001b[0m     \u001b[39massert\u001b[39;00m den \u001b[39m!=\u001b[39m \u001b[39m0\u001b[39m, \u001b[39m'\u001b[39m\u001b[39mNo se puede dividir entre cero\u001b[39m\u001b[39m'\u001b[39m\n\u001b[1;32m      <a href='vscode-notebook-cell:/Users/Daniel/Documentos/School/DataScience/5thSemester/Discrete/Jupyter/Practica7%28OOP%29.ipynb#X42sZmlsZQ%3D%3D?line=5'>6</a>\u001b[0m     \u001b[39mself\u001b[39m\u001b[39m.\u001b[39mnum \u001b[39m=\u001b[39m num\n",
      "\u001b[0;31mAssertionError\u001b[0m: No son números enteros"
     ]
    }
   ],
   "source": [
    "x = RationalNumber(3.5)"
   ]
  },
  {
   "cell_type": "code",
   "execution_count": 129,
   "metadata": {},
   "outputs": [
    {
     "ename": "AssertionError",
     "evalue": "No se puede dividir entre cero",
     "output_type": "error",
     "traceback": [
      "\u001b[0;31m---------------------------------------------------------------------------\u001b[0m",
      "\u001b[0;31mAssertionError\u001b[0m                            Traceback (most recent call last)",
      "\u001b[1;32m/Users/Daniel/Documentos/School/DataScience/5thSemester/Discrete/Jupyter/Practica7(OOP).ipynb Cell 26\u001b[0m in \u001b[0;36m<cell line: 1>\u001b[0;34m()\u001b[0m\n\u001b[0;32m----> <a href='vscode-notebook-cell:/Users/Daniel/Documentos/School/DataScience/5thSemester/Discrete/Jupyter/Practica7%28OOP%29.ipynb#X43sZmlsZQ%3D%3D?line=0'>1</a>\u001b[0m x \u001b[39m=\u001b[39m RationalNumber(\u001b[39m3\u001b[39;49m, \u001b[39m0\u001b[39;49m)\n",
      "\u001b[1;32m/Users/Daniel/Documentos/School/DataScience/5thSemester/Discrete/Jupyter/Practica7(OOP).ipynb Cell 26\u001b[0m in \u001b[0;36mRationalNumber.__init__\u001b[0;34m(self, num, den)\u001b[0m\n\u001b[1;32m      <a href='vscode-notebook-cell:/Users/Daniel/Documentos/School/DataScience/5thSemester/Discrete/Jupyter/Practica7%28OOP%29.ipynb#X43sZmlsZQ%3D%3D?line=2'>3</a>\u001b[0m \u001b[39mdef\u001b[39;00m \u001b[39m__init__\u001b[39m(\u001b[39mself\u001b[39m,num,den\u001b[39m=\u001b[39m\u001b[39m1\u001b[39m):\n\u001b[1;32m      <a href='vscode-notebook-cell:/Users/Daniel/Documentos/School/DataScience/5thSemester/Discrete/Jupyter/Practica7%28OOP%29.ipynb#X43sZmlsZQ%3D%3D?line=3'>4</a>\u001b[0m     \u001b[39massert\u001b[39;00m \u001b[39mtype\u001b[39m(num) \u001b[39m==\u001b[39m \u001b[39mint\u001b[39m \u001b[39mand\u001b[39;00m \u001b[39mtype\u001b[39m(den) \u001b[39m==\u001b[39m \u001b[39mint\u001b[39m, \u001b[39m'\u001b[39m\u001b[39mNo son números enteros\u001b[39m\u001b[39m'\u001b[39m\n\u001b[0;32m----> <a href='vscode-notebook-cell:/Users/Daniel/Documentos/School/DataScience/5thSemester/Discrete/Jupyter/Practica7%28OOP%29.ipynb#X43sZmlsZQ%3D%3D?line=4'>5</a>\u001b[0m     \u001b[39massert\u001b[39;00m den \u001b[39m!=\u001b[39m \u001b[39m0\u001b[39m, \u001b[39m'\u001b[39m\u001b[39mNo se puede dividir entre cero\u001b[39m\u001b[39m'\u001b[39m\n\u001b[1;32m      <a href='vscode-notebook-cell:/Users/Daniel/Documentos/School/DataScience/5thSemester/Discrete/Jupyter/Practica7%28OOP%29.ipynb#X43sZmlsZQ%3D%3D?line=5'>6</a>\u001b[0m     \u001b[39mself\u001b[39m\u001b[39m.\u001b[39mnum \u001b[39m=\u001b[39m num\n\u001b[1;32m      <a href='vscode-notebook-cell:/Users/Daniel/Documentos/School/DataScience/5thSemester/Discrete/Jupyter/Practica7%28OOP%29.ipynb#X43sZmlsZQ%3D%3D?line=6'>7</a>\u001b[0m     \u001b[39mself\u001b[39m\u001b[39m.\u001b[39mden \u001b[39m=\u001b[39m den\n",
      "\u001b[0;31mAssertionError\u001b[0m: No se puede dividir entre cero"
     ]
    }
   ],
   "source": [
    "x = RationalNumber(3, 0)"
   ]
  },
  {
   "cell_type": "code",
   "execution_count": 130,
   "metadata": {},
   "outputs": [
    {
     "ename": "AssertionError",
     "evalue": "No son números enteros",
     "output_type": "error",
     "traceback": [
      "\u001b[0;31m---------------------------------------------------------------------------\u001b[0m",
      "\u001b[0;31mAssertionError\u001b[0m                            Traceback (most recent call last)",
      "\u001b[1;32m/Users/Daniel/Documentos/School/DataScience/5thSemester/Discrete/Jupyter/Practica7(OOP).ipynb Cell 27\u001b[0m in \u001b[0;36m<cell line: 3>\u001b[0;34m()\u001b[0m\n\u001b[1;32m      <a href='vscode-notebook-cell:/Users/Daniel/Documentos/School/DataScience/5thSemester/Discrete/Jupyter/Practica7%28OOP%29.ipynb#X44sZmlsZQ%3D%3D?line=0'>1</a>\u001b[0m x \u001b[39m=\u001b[39m RationalNumber(\u001b[39m3\u001b[39m,\u001b[39m4\u001b[39m)\n\u001b[1;32m      <a href='vscode-notebook-cell:/Users/Daniel/Documentos/School/DataScience/5thSemester/Discrete/Jupyter/Practica7%28OOP%29.ipynb#X44sZmlsZQ%3D%3D?line=1'>2</a>\u001b[0m y \u001b[39m=\u001b[39m \u001b[39m2.3\u001b[39m\n\u001b[0;32m----> <a href='vscode-notebook-cell:/Users/Daniel/Documentos/School/DataScience/5thSemester/Discrete/Jupyter/Practica7%28OOP%29.ipynb#X44sZmlsZQ%3D%3D?line=2'>3</a>\u001b[0m z \u001b[39m=\u001b[39m x \u001b[39m+\u001b[39;49m y\n\u001b[1;32m      <a href='vscode-notebook-cell:/Users/Daniel/Documentos/School/DataScience/5thSemester/Discrete/Jupyter/Practica7%28OOP%29.ipynb#X44sZmlsZQ%3D%3D?line=3'>4</a>\u001b[0m z\n",
      "\u001b[1;32m/Users/Daniel/Documentos/School/DataScience/5thSemester/Discrete/Jupyter/Practica7(OOP).ipynb Cell 27\u001b[0m in \u001b[0;36mRationalNumber.__add__\u001b[0;34m(self, other)\u001b[0m\n\u001b[1;32m      <a href='vscode-notebook-cell:/Users/Daniel/Documentos/School/DataScience/5thSemester/Discrete/Jupyter/Practica7%28OOP%29.ipynb#X44sZmlsZQ%3D%3D?line=8'>9</a>\u001b[0m \u001b[39mdef\u001b[39;00m \u001b[39m__add__\u001b[39m(\u001b[39mself\u001b[39m, other):\n\u001b[1;32m     <a href='vscode-notebook-cell:/Users/Daniel/Documentos/School/DataScience/5thSemester/Discrete/Jupyter/Practica7%28OOP%29.ipynb#X44sZmlsZQ%3D%3D?line=9'>10</a>\u001b[0m     \u001b[39mif\u001b[39;00m \u001b[39mtype\u001b[39m(other) \u001b[39m!=\u001b[39m RationalNumber :\n\u001b[0;32m---> <a href='vscode-notebook-cell:/Users/Daniel/Documentos/School/DataScience/5thSemester/Discrete/Jupyter/Practica7%28OOP%29.ipynb#X44sZmlsZQ%3D%3D?line=10'>11</a>\u001b[0m         other \u001b[39m=\u001b[39m RationalNumber(other)\n\u001b[1;32m     <a href='vscode-notebook-cell:/Users/Daniel/Documentos/School/DataScience/5thSemester/Discrete/Jupyter/Practica7%28OOP%29.ipynb#X44sZmlsZQ%3D%3D?line=11'>12</a>\u001b[0m     \u001b[39mreturn\u001b[39;00m RationalNumber(\u001b[39mself\u001b[39m\u001b[39m.\u001b[39mnum \u001b[39m*\u001b[39m other\u001b[39m.\u001b[39mden \u001b[39m+\u001b[39m \u001b[39mself\u001b[39m\u001b[39m.\u001b[39mden \u001b[39m*\u001b[39m other\u001b[39m.\u001b[39mnum, \u001b[39mself\u001b[39m\u001b[39m.\u001b[39mden \u001b[39m*\u001b[39m other\u001b[39m.\u001b[39mden)\n",
      "\u001b[1;32m/Users/Daniel/Documentos/School/DataScience/5thSemester/Discrete/Jupyter/Practica7(OOP).ipynb Cell 27\u001b[0m in \u001b[0;36mRationalNumber.__init__\u001b[0;34m(self, num, den)\u001b[0m\n\u001b[1;32m      <a href='vscode-notebook-cell:/Users/Daniel/Documentos/School/DataScience/5thSemester/Discrete/Jupyter/Practica7%28OOP%29.ipynb#X44sZmlsZQ%3D%3D?line=2'>3</a>\u001b[0m \u001b[39mdef\u001b[39;00m \u001b[39m__init__\u001b[39m(\u001b[39mself\u001b[39m,num,den\u001b[39m=\u001b[39m\u001b[39m1\u001b[39m):\n\u001b[0;32m----> <a href='vscode-notebook-cell:/Users/Daniel/Documentos/School/DataScience/5thSemester/Discrete/Jupyter/Practica7%28OOP%29.ipynb#X44sZmlsZQ%3D%3D?line=3'>4</a>\u001b[0m     \u001b[39massert\u001b[39;00m \u001b[39mtype\u001b[39m(num) \u001b[39m==\u001b[39m \u001b[39mint\u001b[39m \u001b[39mand\u001b[39;00m \u001b[39mtype\u001b[39m(den) \u001b[39m==\u001b[39m \u001b[39mint\u001b[39m, \u001b[39m'\u001b[39m\u001b[39mNo son números enteros\u001b[39m\u001b[39m'\u001b[39m\n\u001b[1;32m      <a href='vscode-notebook-cell:/Users/Daniel/Documentos/School/DataScience/5thSemester/Discrete/Jupyter/Practica7%28OOP%29.ipynb#X44sZmlsZQ%3D%3D?line=4'>5</a>\u001b[0m     \u001b[39massert\u001b[39;00m den \u001b[39m!=\u001b[39m \u001b[39m0\u001b[39m, \u001b[39m'\u001b[39m\u001b[39mNo se puede dividir entre cero\u001b[39m\u001b[39m'\u001b[39m\n\u001b[1;32m      <a href='vscode-notebook-cell:/Users/Daniel/Documentos/School/DataScience/5thSemester/Discrete/Jupyter/Practica7%28OOP%29.ipynb#X44sZmlsZQ%3D%3D?line=5'>6</a>\u001b[0m     \u001b[39mself\u001b[39m\u001b[39m.\u001b[39mnum \u001b[39m=\u001b[39m num\n",
      "\u001b[0;31mAssertionError\u001b[0m: No son números enteros"
     ]
    }
   ],
   "source": [
    "x = RationalNumber(3,4)\n",
    "y = 2.3\n",
    "z = x + y\n",
    "z"
   ]
  },
  {
   "cell_type": "code",
   "execution_count": 131,
   "metadata": {},
   "outputs": [
    {
     "ename": "AssertionError",
     "evalue": "No son números enteros",
     "output_type": "error",
     "traceback": [
      "\u001b[0;31m---------------------------------------------------------------------------\u001b[0m",
      "\u001b[0;31mAssertionError\u001b[0m                            Traceback (most recent call last)",
      "\u001b[1;32m/Users/Daniel/Documentos/School/DataScience/5thSemester/Discrete/Jupyter/Practica7(OOP).ipynb Cell 28\u001b[0m in \u001b[0;36m<cell line: 3>\u001b[0;34m()\u001b[0m\n\u001b[1;32m      <a href='vscode-notebook-cell:/Users/Daniel/Documentos/School/DataScience/5thSemester/Discrete/Jupyter/Practica7%28OOP%29.ipynb#X45sZmlsZQ%3D%3D?line=0'>1</a>\u001b[0m x \u001b[39m=\u001b[39m RationalNumber(\u001b[39m3\u001b[39m,\u001b[39m4\u001b[39m)\n\u001b[1;32m      <a href='vscode-notebook-cell:/Users/Daniel/Documentos/School/DataScience/5thSemester/Discrete/Jupyter/Practica7%28OOP%29.ipynb#X45sZmlsZQ%3D%3D?line=1'>2</a>\u001b[0m y \u001b[39m=\u001b[39m \u001b[39m5.1\u001b[39m\n\u001b[0;32m----> <a href='vscode-notebook-cell:/Users/Daniel/Documentos/School/DataScience/5thSemester/Discrete/Jupyter/Practica7%28OOP%29.ipynb#X45sZmlsZQ%3D%3D?line=2'>3</a>\u001b[0m z \u001b[39m=\u001b[39m x \u001b[39m-\u001b[39;49m y\n\u001b[1;32m      <a href='vscode-notebook-cell:/Users/Daniel/Documentos/School/DataScience/5thSemester/Discrete/Jupyter/Practica7%28OOP%29.ipynb#X45sZmlsZQ%3D%3D?line=3'>4</a>\u001b[0m z\n",
      "\u001b[1;32m/Users/Daniel/Documentos/School/DataScience/5thSemester/Discrete/Jupyter/Practica7(OOP).ipynb Cell 28\u001b[0m in \u001b[0;36mRationalNumber.__sub__\u001b[0;34m(self, other)\u001b[0m\n\u001b[1;32m     <a href='vscode-notebook-cell:/Users/Daniel/Documentos/School/DataScience/5thSemester/Discrete/Jupyter/Practica7%28OOP%29.ipynb#X45sZmlsZQ%3D%3D?line=13'>14</a>\u001b[0m \u001b[39mdef\u001b[39;00m \u001b[39m__sub__\u001b[39m(\u001b[39mself\u001b[39m, other):\n\u001b[1;32m     <a href='vscode-notebook-cell:/Users/Daniel/Documentos/School/DataScience/5thSemester/Discrete/Jupyter/Practica7%28OOP%29.ipynb#X45sZmlsZQ%3D%3D?line=14'>15</a>\u001b[0m     \u001b[39mif\u001b[39;00m \u001b[39mtype\u001b[39m(other) \u001b[39m!=\u001b[39m RationalNumber :\n\u001b[0;32m---> <a href='vscode-notebook-cell:/Users/Daniel/Documentos/School/DataScience/5thSemester/Discrete/Jupyter/Practica7%28OOP%29.ipynb#X45sZmlsZQ%3D%3D?line=15'>16</a>\u001b[0m         other \u001b[39m=\u001b[39m RationalNumber(other)        \n\u001b[1;32m     <a href='vscode-notebook-cell:/Users/Daniel/Documentos/School/DataScience/5thSemester/Discrete/Jupyter/Practica7%28OOP%29.ipynb#X45sZmlsZQ%3D%3D?line=16'>17</a>\u001b[0m     \u001b[39mreturn\u001b[39;00m RationalNumber(\u001b[39mself\u001b[39m\u001b[39m.\u001b[39mnum \u001b[39m*\u001b[39m other\u001b[39m.\u001b[39mden \u001b[39m-\u001b[39m \u001b[39mself\u001b[39m\u001b[39m.\u001b[39mden \u001b[39m*\u001b[39m other\u001b[39m.\u001b[39mnum, \u001b[39mself\u001b[39m\u001b[39m.\u001b[39mden \u001b[39m*\u001b[39m other\u001b[39m.\u001b[39mden)\n",
      "\u001b[1;32m/Users/Daniel/Documentos/School/DataScience/5thSemester/Discrete/Jupyter/Practica7(OOP).ipynb Cell 28\u001b[0m in \u001b[0;36mRationalNumber.__init__\u001b[0;34m(self, num, den)\u001b[0m\n\u001b[1;32m      <a href='vscode-notebook-cell:/Users/Daniel/Documentos/School/DataScience/5thSemester/Discrete/Jupyter/Practica7%28OOP%29.ipynb#X45sZmlsZQ%3D%3D?line=2'>3</a>\u001b[0m \u001b[39mdef\u001b[39;00m \u001b[39m__init__\u001b[39m(\u001b[39mself\u001b[39m,num,den\u001b[39m=\u001b[39m\u001b[39m1\u001b[39m):\n\u001b[0;32m----> <a href='vscode-notebook-cell:/Users/Daniel/Documentos/School/DataScience/5thSemester/Discrete/Jupyter/Practica7%28OOP%29.ipynb#X45sZmlsZQ%3D%3D?line=3'>4</a>\u001b[0m     \u001b[39massert\u001b[39;00m \u001b[39mtype\u001b[39m(num) \u001b[39m==\u001b[39m \u001b[39mint\u001b[39m \u001b[39mand\u001b[39;00m \u001b[39mtype\u001b[39m(den) \u001b[39m==\u001b[39m \u001b[39mint\u001b[39m, \u001b[39m'\u001b[39m\u001b[39mNo son números enteros\u001b[39m\u001b[39m'\u001b[39m\n\u001b[1;32m      <a href='vscode-notebook-cell:/Users/Daniel/Documentos/School/DataScience/5thSemester/Discrete/Jupyter/Practica7%28OOP%29.ipynb#X45sZmlsZQ%3D%3D?line=4'>5</a>\u001b[0m     \u001b[39massert\u001b[39;00m den \u001b[39m!=\u001b[39m \u001b[39m0\u001b[39m, \u001b[39m'\u001b[39m\u001b[39mNo se puede dividir entre cero\u001b[39m\u001b[39m'\u001b[39m\n\u001b[1;32m      <a href='vscode-notebook-cell:/Users/Daniel/Documentos/School/DataScience/5thSemester/Discrete/Jupyter/Practica7%28OOP%29.ipynb#X45sZmlsZQ%3D%3D?line=5'>6</a>\u001b[0m     \u001b[39mself\u001b[39m\u001b[39m.\u001b[39mnum \u001b[39m=\u001b[39m num\n",
      "\u001b[0;31mAssertionError\u001b[0m: No son números enteros"
     ]
    }
   ],
   "source": [
    "x = RationalNumber(3,4)\n",
    "y = 5.1\n",
    "z = x - y\n",
    "z"
   ]
  },
  {
   "cell_type": "code",
   "execution_count": 132,
   "metadata": {},
   "outputs": [
    {
     "ename": "AssertionError",
     "evalue": "No son números enteros",
     "output_type": "error",
     "traceback": [
      "\u001b[0;31m---------------------------------------------------------------------------\u001b[0m",
      "\u001b[0;31mAssertionError\u001b[0m                            Traceback (most recent call last)",
      "\u001b[1;32m/Users/Daniel/Documentos/School/DataScience/5thSemester/Discrete/Jupyter/Practica7(OOP).ipynb Cell 29\u001b[0m in \u001b[0;36m<cell line: 3>\u001b[0;34m()\u001b[0m\n\u001b[1;32m      <a href='vscode-notebook-cell:/Users/Daniel/Documentos/School/DataScience/5thSemester/Discrete/Jupyter/Practica7%28OOP%29.ipynb#X46sZmlsZQ%3D%3D?line=0'>1</a>\u001b[0m x \u001b[39m=\u001b[39m RationalNumber(\u001b[39m3\u001b[39m,\u001b[39m4\u001b[39m)\n\u001b[1;32m      <a href='vscode-notebook-cell:/Users/Daniel/Documentos/School/DataScience/5thSemester/Discrete/Jupyter/Practica7%28OOP%29.ipynb#X46sZmlsZQ%3D%3D?line=1'>2</a>\u001b[0m y \u001b[39m=\u001b[39m \u001b[39m4.9\u001b[39m\n\u001b[0;32m----> <a href='vscode-notebook-cell:/Users/Daniel/Documentos/School/DataScience/5thSemester/Discrete/Jupyter/Practica7%28OOP%29.ipynb#X46sZmlsZQ%3D%3D?line=2'>3</a>\u001b[0m z \u001b[39m=\u001b[39m x \u001b[39m*\u001b[39;49m y\n\u001b[1;32m      <a href='vscode-notebook-cell:/Users/Daniel/Documentos/School/DataScience/5thSemester/Discrete/Jupyter/Practica7%28OOP%29.ipynb#X46sZmlsZQ%3D%3D?line=3'>4</a>\u001b[0m z\n",
      "\u001b[1;32m/Users/Daniel/Documentos/School/DataScience/5thSemester/Discrete/Jupyter/Practica7(OOP).ipynb Cell 29\u001b[0m in \u001b[0;36mRationalNumber.__mul__\u001b[0;34m(self, other)\u001b[0m\n\u001b[1;32m     <a href='vscode-notebook-cell:/Users/Daniel/Documentos/School/DataScience/5thSemester/Discrete/Jupyter/Practica7%28OOP%29.ipynb#X46sZmlsZQ%3D%3D?line=18'>19</a>\u001b[0m \u001b[39mdef\u001b[39;00m \u001b[39m__mul__\u001b[39m(\u001b[39mself\u001b[39m, other):\n\u001b[1;32m     <a href='vscode-notebook-cell:/Users/Daniel/Documentos/School/DataScience/5thSemester/Discrete/Jupyter/Practica7%28OOP%29.ipynb#X46sZmlsZQ%3D%3D?line=19'>20</a>\u001b[0m     \u001b[39mif\u001b[39;00m \u001b[39mtype\u001b[39m(other) \u001b[39m!=\u001b[39m RationalNumber :\n\u001b[0;32m---> <a href='vscode-notebook-cell:/Users/Daniel/Documentos/School/DataScience/5thSemester/Discrete/Jupyter/Practica7%28OOP%29.ipynb#X46sZmlsZQ%3D%3D?line=20'>21</a>\u001b[0m         other \u001b[39m=\u001b[39m RationalNumber(other)  \n\u001b[1;32m     <a href='vscode-notebook-cell:/Users/Daniel/Documentos/School/DataScience/5thSemester/Discrete/Jupyter/Practica7%28OOP%29.ipynb#X46sZmlsZQ%3D%3D?line=21'>22</a>\u001b[0m     \u001b[39mreturn\u001b[39;00m RationalNumber(\u001b[39mself\u001b[39m\u001b[39m.\u001b[39mnum \u001b[39m*\u001b[39m other\u001b[39m.\u001b[39mnum, \u001b[39mself\u001b[39m\u001b[39m.\u001b[39mden \u001b[39m*\u001b[39m other\u001b[39m.\u001b[39mden)\n",
      "\u001b[1;32m/Users/Daniel/Documentos/School/DataScience/5thSemester/Discrete/Jupyter/Practica7(OOP).ipynb Cell 29\u001b[0m in \u001b[0;36mRationalNumber.__init__\u001b[0;34m(self, num, den)\u001b[0m\n\u001b[1;32m      <a href='vscode-notebook-cell:/Users/Daniel/Documentos/School/DataScience/5thSemester/Discrete/Jupyter/Practica7%28OOP%29.ipynb#X46sZmlsZQ%3D%3D?line=2'>3</a>\u001b[0m \u001b[39mdef\u001b[39;00m \u001b[39m__init__\u001b[39m(\u001b[39mself\u001b[39m,num,den\u001b[39m=\u001b[39m\u001b[39m1\u001b[39m):\n\u001b[0;32m----> <a href='vscode-notebook-cell:/Users/Daniel/Documentos/School/DataScience/5thSemester/Discrete/Jupyter/Practica7%28OOP%29.ipynb#X46sZmlsZQ%3D%3D?line=3'>4</a>\u001b[0m     \u001b[39massert\u001b[39;00m \u001b[39mtype\u001b[39m(num) \u001b[39m==\u001b[39m \u001b[39mint\u001b[39m \u001b[39mand\u001b[39;00m \u001b[39mtype\u001b[39m(den) \u001b[39m==\u001b[39m \u001b[39mint\u001b[39m, \u001b[39m'\u001b[39m\u001b[39mNo son números enteros\u001b[39m\u001b[39m'\u001b[39m\n\u001b[1;32m      <a href='vscode-notebook-cell:/Users/Daniel/Documentos/School/DataScience/5thSemester/Discrete/Jupyter/Practica7%28OOP%29.ipynb#X46sZmlsZQ%3D%3D?line=4'>5</a>\u001b[0m     \u001b[39massert\u001b[39;00m den \u001b[39m!=\u001b[39m \u001b[39m0\u001b[39m, \u001b[39m'\u001b[39m\u001b[39mNo se puede dividir entre cero\u001b[39m\u001b[39m'\u001b[39m\n\u001b[1;32m      <a href='vscode-notebook-cell:/Users/Daniel/Documentos/School/DataScience/5thSemester/Discrete/Jupyter/Practica7%28OOP%29.ipynb#X46sZmlsZQ%3D%3D?line=5'>6</a>\u001b[0m     \u001b[39mself\u001b[39m\u001b[39m.\u001b[39mnum \u001b[39m=\u001b[39m num\n",
      "\u001b[0;31mAssertionError\u001b[0m: No son números enteros"
     ]
    }
   ],
   "source": [
    "x = RationalNumber(3,4)\n",
    "y = 4.9\n",
    "z = x * y\n",
    "z"
   ]
  },
  {
   "cell_type": "code",
   "execution_count": 133,
   "metadata": {},
   "outputs": [
    {
     "ename": "AssertionError",
     "evalue": "No son números enteros",
     "output_type": "error",
     "traceback": [
      "\u001b[0;31m---------------------------------------------------------------------------\u001b[0m",
      "\u001b[0;31mAssertionError\u001b[0m                            Traceback (most recent call last)",
      "\u001b[1;32m/Users/Daniel/Documentos/School/DataScience/5thSemester/Discrete/Jupyter/Practica7(OOP).ipynb Cell 30\u001b[0m in \u001b[0;36m<cell line: 3>\u001b[0;34m()\u001b[0m\n\u001b[1;32m      <a href='vscode-notebook-cell:/Users/Daniel/Documentos/School/DataScience/5thSemester/Discrete/Jupyter/Practica7%28OOP%29.ipynb#X50sZmlsZQ%3D%3D?line=0'>1</a>\u001b[0m x \u001b[39m=\u001b[39m RationalNumber(\u001b[39m3\u001b[39m,\u001b[39m4\u001b[39m)\n\u001b[1;32m      <a href='vscode-notebook-cell:/Users/Daniel/Documentos/School/DataScience/5thSemester/Discrete/Jupyter/Practica7%28OOP%29.ipynb#X50sZmlsZQ%3D%3D?line=1'>2</a>\u001b[0m y \u001b[39m=\u001b[39m \u001b[39m9.98\u001b[39m\n\u001b[0;32m----> <a href='vscode-notebook-cell:/Users/Daniel/Documentos/School/DataScience/5thSemester/Discrete/Jupyter/Practica7%28OOP%29.ipynb#X50sZmlsZQ%3D%3D?line=2'>3</a>\u001b[0m z \u001b[39m=\u001b[39m x \u001b[39m/\u001b[39;49m y\n\u001b[1;32m      <a href='vscode-notebook-cell:/Users/Daniel/Documentos/School/DataScience/5thSemester/Discrete/Jupyter/Practica7%28OOP%29.ipynb#X50sZmlsZQ%3D%3D?line=3'>4</a>\u001b[0m z\n",
      "\u001b[1;32m/Users/Daniel/Documentos/School/DataScience/5thSemester/Discrete/Jupyter/Practica7(OOP).ipynb Cell 30\u001b[0m in \u001b[0;36mRationalNumber.__truediv__\u001b[0;34m(self, other)\u001b[0m\n\u001b[1;32m     <a href='vscode-notebook-cell:/Users/Daniel/Documentos/School/DataScience/5thSemester/Discrete/Jupyter/Practica7%28OOP%29.ipynb#X50sZmlsZQ%3D%3D?line=23'>24</a>\u001b[0m \u001b[39mdef\u001b[39;00m \u001b[39m__truediv__\u001b[39m(\u001b[39mself\u001b[39m,other):\n\u001b[1;32m     <a href='vscode-notebook-cell:/Users/Daniel/Documentos/School/DataScience/5thSemester/Discrete/Jupyter/Practica7%28OOP%29.ipynb#X50sZmlsZQ%3D%3D?line=24'>25</a>\u001b[0m     \u001b[39mif\u001b[39;00m \u001b[39mtype\u001b[39m(other) \u001b[39m!=\u001b[39m RationalNumber :\n\u001b[0;32m---> <a href='vscode-notebook-cell:/Users/Daniel/Documentos/School/DataScience/5thSemester/Discrete/Jupyter/Practica7%28OOP%29.ipynb#X50sZmlsZQ%3D%3D?line=25'>26</a>\u001b[0m         other \u001b[39m=\u001b[39m RationalNumber(other)  \n\u001b[1;32m     <a href='vscode-notebook-cell:/Users/Daniel/Documentos/School/DataScience/5thSemester/Discrete/Jupyter/Practica7%28OOP%29.ipynb#X50sZmlsZQ%3D%3D?line=26'>27</a>\u001b[0m     \u001b[39mreturn\u001b[39;00m RationalNumber(\u001b[39mself\u001b[39m\u001b[39m.\u001b[39mnum \u001b[39m*\u001b[39m other\u001b[39m.\u001b[39mden, \u001b[39mself\u001b[39m\u001b[39m.\u001b[39mden \u001b[39m*\u001b[39m other\u001b[39m.\u001b[39mnum)\n",
      "\u001b[1;32m/Users/Daniel/Documentos/School/DataScience/5thSemester/Discrete/Jupyter/Practica7(OOP).ipynb Cell 30\u001b[0m in \u001b[0;36mRationalNumber.__init__\u001b[0;34m(self, num, den)\u001b[0m\n\u001b[1;32m      <a href='vscode-notebook-cell:/Users/Daniel/Documentos/School/DataScience/5thSemester/Discrete/Jupyter/Practica7%28OOP%29.ipynb#X50sZmlsZQ%3D%3D?line=2'>3</a>\u001b[0m \u001b[39mdef\u001b[39;00m \u001b[39m__init__\u001b[39m(\u001b[39mself\u001b[39m,num,den\u001b[39m=\u001b[39m\u001b[39m1\u001b[39m):\n\u001b[0;32m----> <a href='vscode-notebook-cell:/Users/Daniel/Documentos/School/DataScience/5thSemester/Discrete/Jupyter/Practica7%28OOP%29.ipynb#X50sZmlsZQ%3D%3D?line=3'>4</a>\u001b[0m     \u001b[39massert\u001b[39;00m \u001b[39mtype\u001b[39m(num) \u001b[39m==\u001b[39m \u001b[39mint\u001b[39m \u001b[39mand\u001b[39;00m \u001b[39mtype\u001b[39m(den) \u001b[39m==\u001b[39m \u001b[39mint\u001b[39m, \u001b[39m'\u001b[39m\u001b[39mNo son números enteros\u001b[39m\u001b[39m'\u001b[39m\n\u001b[1;32m      <a href='vscode-notebook-cell:/Users/Daniel/Documentos/School/DataScience/5thSemester/Discrete/Jupyter/Practica7%28OOP%29.ipynb#X50sZmlsZQ%3D%3D?line=4'>5</a>\u001b[0m     \u001b[39massert\u001b[39;00m den \u001b[39m!=\u001b[39m \u001b[39m0\u001b[39m, \u001b[39m'\u001b[39m\u001b[39mNo se puede dividir entre cero\u001b[39m\u001b[39m'\u001b[39m\n\u001b[1;32m      <a href='vscode-notebook-cell:/Users/Daniel/Documentos/School/DataScience/5thSemester/Discrete/Jupyter/Practica7%28OOP%29.ipynb#X50sZmlsZQ%3D%3D?line=5'>6</a>\u001b[0m     \u001b[39mself\u001b[39m\u001b[39m.\u001b[39mnum \u001b[39m=\u001b[39m num\n",
      "\u001b[0;31mAssertionError\u001b[0m: No son números enteros"
     ]
    }
   ],
   "source": [
    "x = RationalNumber(3,4)\n",
    "y = 9.98\n",
    "z = x / y\n",
    "z"
   ]
  },
  {
   "cell_type": "code",
   "execution_count": null,
   "metadata": {},
   "outputs": [
    {
     "ename": "AssertionError",
     "evalue": "No son números enteros",
     "output_type": "error",
     "traceback": [
      "\u001b[0;31m---------------------------------------------------------------------------\u001b[0m",
      "\u001b[0;31mAssertionError\u001b[0m                            Traceback (most recent call last)",
      "\u001b[1;32m/Users/Daniel/Documentos/School/DataScience/5thSemester/Discrete/Jupyter/Practica7(OOP).ipynb Cell 25\u001b[0m in \u001b[0;36m<cell line: 3>\u001b[0;34m()\u001b[0m\n\u001b[1;32m      <a href='vscode-notebook-cell:/Users/Daniel/Documentos/School/DataScience/5thSemester/Discrete/Jupyter/Practica7%28OOP%29.ipynb#X10sZmlsZQ%3D%3D?line=0'>1</a>\u001b[0m x \u001b[39m=\u001b[39m RationalNumber(\u001b[39m3\u001b[39m,\u001b[39m4\u001b[39m)\n\u001b[1;32m      <a href='vscode-notebook-cell:/Users/Daniel/Documentos/School/DataScience/5thSemester/Discrete/Jupyter/Practica7%28OOP%29.ipynb#X10sZmlsZQ%3D%3D?line=1'>2</a>\u001b[0m y \u001b[39m=\u001b[39m RationalNumber(\u001b[39m2\u001b[39m,\u001b[39m3\u001b[39m)\n\u001b[0;32m----> <a href='vscode-notebook-cell:/Users/Daniel/Documentos/School/DataScience/5thSemester/Discrete/Jupyter/Practica7%28OOP%29.ipynb#X10sZmlsZQ%3D%3D?line=2'>3</a>\u001b[0m z \u001b[39m=\u001b[39m x \u001b[39m*\u001b[39;49m\u001b[39m*\u001b[39;49m y\n\u001b[1;32m      <a href='vscode-notebook-cell:/Users/Daniel/Documentos/School/DataScience/5thSemester/Discrete/Jupyter/Practica7%28OOP%29.ipynb#X10sZmlsZQ%3D%3D?line=3'>4</a>\u001b[0m z\n",
      "\u001b[1;32m/Users/Daniel/Documentos/School/DataScience/5thSemester/Discrete/Jupyter/Practica7(OOP).ipynb Cell 25\u001b[0m in \u001b[0;36mRationalNumber.__pow__\u001b[0;34m(self, other)\u001b[0m\n\u001b[1;32m     <a href='vscode-notebook-cell:/Users/Daniel/Documentos/School/DataScience/5thSemester/Discrete/Jupyter/Practica7%28OOP%29.ipynb#X10sZmlsZQ%3D%3D?line=34'>35</a>\u001b[0m     \u001b[39mreturn\u001b[39;00m \u001b[39mself\u001b[39m\n\u001b[1;32m     <a href='vscode-notebook-cell:/Users/Daniel/Documentos/School/DataScience/5thSemester/Discrete/Jupyter/Practica7%28OOP%29.ipynb#X10sZmlsZQ%3D%3D?line=35'>36</a>\u001b[0m \u001b[39melse\u001b[39;00m:\n\u001b[0;32m---> <a href='vscode-notebook-cell:/Users/Daniel/Documentos/School/DataScience/5thSemester/Discrete/Jupyter/Practica7%28OOP%29.ipynb#X10sZmlsZQ%3D%3D?line=36'>37</a>\u001b[0m     \u001b[39mreturn\u001b[39;00m RationalNumber(\u001b[39mself\u001b[39;49m\u001b[39m.\u001b[39;49mnum \u001b[39m*\u001b[39;49m\u001b[39m*\u001b[39;49m (other\u001b[39m.\u001b[39;49mnum \u001b[39m/\u001b[39;49m other\u001b[39m.\u001b[39;49mden), \u001b[39mself\u001b[39;49m\u001b[39m.\u001b[39;49mden \u001b[39m*\u001b[39;49m\u001b[39m*\u001b[39;49m (other\u001b[39m.\u001b[39;49mnum \u001b[39m/\u001b[39;49m other\u001b[39m.\u001b[39;49mden))\n",
      "\u001b[1;32m/Users/Daniel/Documentos/School/DataScience/5thSemester/Discrete/Jupyter/Practica7(OOP).ipynb Cell 25\u001b[0m in \u001b[0;36mRationalNumber.__init__\u001b[0;34m(self, num, den)\u001b[0m\n\u001b[1;32m      <a href='vscode-notebook-cell:/Users/Daniel/Documentos/School/DataScience/5thSemester/Discrete/Jupyter/Practica7%28OOP%29.ipynb#X10sZmlsZQ%3D%3D?line=2'>3</a>\u001b[0m \u001b[39mdef\u001b[39;00m \u001b[39m__init__\u001b[39m(\u001b[39mself\u001b[39m,num,den\u001b[39m=\u001b[39m\u001b[39m1\u001b[39m):\n\u001b[0;32m----> <a href='vscode-notebook-cell:/Users/Daniel/Documentos/School/DataScience/5thSemester/Discrete/Jupyter/Practica7%28OOP%29.ipynb#X10sZmlsZQ%3D%3D?line=3'>4</a>\u001b[0m     \u001b[39massert\u001b[39;00m \u001b[39mtype\u001b[39m(num) \u001b[39m==\u001b[39m \u001b[39mint\u001b[39m \u001b[39mand\u001b[39;00m \u001b[39mtype\u001b[39m(den) \u001b[39m==\u001b[39m \u001b[39mint\u001b[39m, \u001b[39m'\u001b[39m\u001b[39mNo son números enteros\u001b[39m\u001b[39m'\u001b[39m\n\u001b[1;32m      <a href='vscode-notebook-cell:/Users/Daniel/Documentos/School/DataScience/5thSemester/Discrete/Jupyter/Practica7%28OOP%29.ipynb#X10sZmlsZQ%3D%3D?line=4'>5</a>\u001b[0m     \u001b[39massert\u001b[39;00m den \u001b[39m!=\u001b[39m \u001b[39m0\u001b[39m, \u001b[39m'\u001b[39m\u001b[39mNo se puede dividir entre cero\u001b[39m\u001b[39m'\u001b[39m\n\u001b[1;32m      <a href='vscode-notebook-cell:/Users/Daniel/Documentos/School/DataScience/5thSemester/Discrete/Jupyter/Practica7%28OOP%29.ipynb#X10sZmlsZQ%3D%3D?line=5'>6</a>\u001b[0m     \u001b[39mself\u001b[39m\u001b[39m.\u001b[39mnum \u001b[39m=\u001b[39m num\n",
      "\u001b[0;31mAssertionError\u001b[0m: No son números enteros"
     ]
    }
   ],
   "source": [
    "x = RationalNumber(3,4)\n",
    "y = RationalNumber(2,3)\n",
    "z = x ** y\n",
    "z"
   ]
  }
 ],
 "metadata": {
  "kernelspec": {
   "display_name": "Python 3.9.12 ('base')",
   "language": "python",
   "name": "python3"
  },
  "language_info": {
   "codemirror_mode": {
    "name": "ipython",
    "version": 3
   },
   "file_extension": ".py",
   "mimetype": "text/x-python",
   "name": "python",
   "nbconvert_exporter": "python",
   "pygments_lexer": "ipython3",
   "version": "3.9.12"
  },
  "orig_nbformat": 4,
  "vscode": {
   "interpreter": {
    "hash": "6c0cb1f488f15cea3c982386fe947dc4e34776dbf252a008d041bec8bc285b28"
   }
  }
 },
 "nbformat": 4,
 "nbformat_minor": 2
}
