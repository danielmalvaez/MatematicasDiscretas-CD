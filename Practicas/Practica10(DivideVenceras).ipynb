{
 "cells": [
  {
   "cell_type": "markdown",
   "metadata": {},
   "source": [
    "# Práctica 10 (Divide y Vencerás)\n",
    "\n",
    "**Alumno:** Axel Daniel Malváez Flores\n",
    "\n",
    "**5to** Semestre"
   ]
  },
  {
   "cell_type": "markdown",
   "metadata": {
    "id": "9srmisq0UIjB"
   },
   "source": [
    "# Ejercicios"
   ]
  },
  {
   "cell_type": "code",
   "execution_count": 23,
   "metadata": {},
   "outputs": [],
   "source": [
    "import numpy as np\n",
    "from math import sqrt\n",
    "import copy"
   ]
  },
  {
   "cell_type": "markdown",
   "metadata": {},
   "source": [
    "## Ejercicio 1\n",
    "\n",
    "Dado un arreglo $L$, para índices $i, j$ con $i<j$, decimos que $L_i$ y $L_j$ forman una *inversión* si $L_i>L_j$. Por ejemplo, el arreglo:\n",
    "\n",
    "$$\n",
    "L = [2, 4, 1, 3, 5]\n",
    "$$\n",
    "\n",
    "Tiene tres inversiones: $(2,1),(4,1),(4,3)$.\n",
    "\n",
    "Diseña un algoritmo de divide y vencerás que cuente el número de inversiones en un arreglo. Este debe de correr en tiempo $O(n\\log n)$."
   ]
  },
  {
   "cell_type": "markdown",
   "metadata": {
    "id": "D8Y4zwlHUIjC"
   },
   "source": [
    "**Explicación:**  \n",
    "La idea es similar a *merge sort*, dividir el arreglo en dos o más mitades iguales en cada paso hasta que el caso base sea alcanzado. \n",
    "\n",
    "* Creamos una función *merge* que cuenta el número de inversiones cuando dos mitades del arreglo son mezclada y para esto se crean dos índices, $i$ y $j$ para la primera y segunda mitad respectivamente y verificamos si a[i] es más grande que a[j] entonces tendremos que habrá (mid - i) inversiones, esto porque los subarreglos izquierdo y derecho están otdenados, entonces todos los elementos restantes en el subarray izquierdo (a[i+1], a[i+2] … a[mid]) serán más grandes que a[j].\n",
    "\n",
    "* Ahora creamos otra función recursiva para dividir el arreglo en dos subarreglos y encontrar la respuesta asumiendo que el número de inversiones es el número de inversiones en la primera mitad, el número de inversiones en la segunda mitad y el número de inversiones fusionando ambos subarreglos.\n",
    "\n",
    "Notemos que el caso base de recursión es cuando hay solo un elemento en la mitad del arreglo dado. Finalmente imprimimos el resultado.\n",
    "\n",
    "Ahora el análisis lo damos por funciones:\n",
    "* merge(): El análisis total es $O(n)$\n",
    "    * Línea 36-41: $O(1)$\n",
    "    * Línea 45-56: $O(\\frac{n}{2})$\n",
    "    * Línea 60-63: $O(n)$\n",
    "    * Línea 67-70: $O(n)$\n",
    "    * Línea 73-74: $O(n)$\n",
    "\n",
    "* _mergeSort():\n",
    "    * Línea 14-19: $O(1)$\n",
    "    * Línea 22: $\\text{T}(\\frac{n}{2})$\n",
    "    * Línea 25: $\\text{T}(\\frac{n}{2})$\n",
    "    * Línea 28: $O(n)$\n",
    "\n",
    "Entonces nuestra relación de recurrencia de esta función será:\n",
    "\n",
    "$$\n",
    "\\text{T}(n) = 2\\text{T}(\\frac{n}{2}) + Cn\n",
    "$$\n",
    "\n",
    "Y utilizando nuestro **Teorema Maestro**, tenemos algo del estilo $aT(\\frac{n}{b}) + f(n)$ con:  \n",
    "* $a$ = 2\n",
    "* $b$ = 2\n",
    "* $f(n)$ = n (lineal)\n",
    "\n",
    "Así calculando el $c_{crit} = \\log_a b = \\log_2 2 = 1$. Y notando que $f(n) = O(n^{c_{crit}}) = O(n^1) = O(n)$, entonces como $f(n) = \\Theta (n^{c_{crit}}\\log ^{0} n)$ con $k=0$ y por tanto la complejidad de nuestro algoritmo será de:\n",
    "\n",
    "$$\n",
    "T(n) = \\Theta (n^{c_{crit}}\\log^{k+1} n) = \\Theta (n^{1}\\log n) = \\Theta (n\\log n)\n",
    "$$\n",
    "\n",
    "Es decir la complejidad de nuestro algoritmo es $\\Theta (n\\log n)$.\n",
    "\n",
    "* count_inversions(): El análisis total depende de ```_mergeSort()``` y así está será de $O(n \\log n)$\n",
    "\n",
    "Por lo tanto la complejidad total de nuestro algoritmo es de $O(n \\log n)$"
   ]
  },
  {
   "cell_type": "code",
   "execution_count": 24,
   "metadata": {},
   "outputs": [],
   "source": [
    "def count_inversions(S):\n",
    "    ''' \n",
    "    Función que utilizamos para llamar al algoritmo de inversión\n",
    "    ''' \n",
    "    n = len(S)\n",
    "    # A temp_arr is created to store sorted array in merge function\n",
    "    temp_arr = [0]*n\n",
    "    return _mergeSort(S, temp_arr, 0, n - 1)\n",
    "  \n",
    "def _mergeSort(arr, temp_arr, left, right):\n",
    "    '''\n",
    "    Usaremos merge sort para encontrar las inversiones de nuestra lista \n",
    "    '''\n",
    "    inv_count = 0\n",
    "\n",
    "    # Si tenemos más elementos en el lado derecho, hacemos recursión\n",
    "    if left < right:\n",
    "        # Calculamos la mitad del arreglo\n",
    "        mid = (left + right)//2\n",
    "  \n",
    "        # Contamos las inversiones en el subarray izquierdo\n",
    "        inv_count += _mergeSort(arr, temp_arr, left, mid)\n",
    "  \n",
    "        # Contamos las inversiones en el subarray derecho\n",
    "        inv_count += _mergeSort(arr, temp_arr, mid + 1, right)\n",
    "\n",
    "        # Fusionará dos subarrays en un subarray ordenado\n",
    "        inv_count += merge(arr, temp_arr, left, mid, right)\n",
    "    return inv_count\n",
    "\n",
    "def merge(arr, temp_arr, left, mid, right):\n",
    "    '''\n",
    "    Esta función mezcla dos subarreglos en un único subarreglo ordenado \n",
    "    '''\n",
    "    # Índice de inicio del subarray izquierdo\n",
    "    i = left\n",
    "    # Índice de inicio del subarray derecho\n",
    "    j = mid + 1 \n",
    "    # Índice de inicio del que será el subarray ordenado\n",
    "    k = left     \n",
    "    inv_count = 0\n",
    "    \n",
    "    # Las condiciones se checan para asegurar que i y j no exceden sus limites del\n",
    "    # subarray\n",
    "    while i <= mid and j <= right:\n",
    "        # No habrá inversión si: arr[i] <= arr[j]\n",
    "        if arr[i] <= arr[j]:\n",
    "            temp_arr[k] = arr[i]\n",
    "            k += 1\n",
    "            i += 1\n",
    "        else:\n",
    "            # Ocurrirá una inversión\n",
    "            temp_arr[k] = arr[j]\n",
    "            inv_count += (mid-i + 1)\n",
    "            k += 1\n",
    "            j += 1\n",
    "\n",
    "    # Copiamos los elementos restantes del subarreglo izquierdo\n",
    "    # en nuestro array temporal\n",
    "    while i <= mid:\n",
    "        temp_arr[k] = arr[i]\n",
    "        k += 1\n",
    "        i += 1\n",
    "  \n",
    "    # Copiamos los elementos restantes del subarreglo derechos\n",
    "    # en nuestro array temporal\n",
    "    while j <= right:\n",
    "        temp_arr[k] = arr[j]\n",
    "        k += 1\n",
    "        j += 1\n",
    "    \n",
    "    # Copiamos el subarray ordenado en el arreglo original\n",
    "    for loop_var in range(left, right + 1):\n",
    "        arr[loop_var] = temp_arr[loop_var]\n",
    "          \n",
    "    return inv_count"
   ]
  },
  {
   "cell_type": "code",
   "execution_count": 25,
   "metadata": {},
   "outputs": [
    {
     "name": "stdout",
     "output_type": "stream",
     "text": [
      "Número de inversiones de la lista L = [1, 2, 3, 4, 5] son 3\n"
     ]
    }
   ],
   "source": [
    "L = [2, 4, 1, 3, 5]\n",
    "inversions = count_inversions(L)\n",
    "print(f'Número de inversiones de la lista L = {L} son {inversions}')"
   ]
  },
  {
   "cell_type": "markdown",
   "metadata": {
    "id": "7dwh4bF_UIjD"
   },
   "source": [
    "## Ejercicio 2\n",
    "\n",
    "Supón que tienes un conjunto $S$ de $n$ puntos en el plano. Diseña un algoritmo de divide y vencerás para encontrar el par de puntos más cercano. Tu algoritmo debe de correr en tiempo $O(n\\log n)$."
   ]
  },
  {
   "cell_type": "markdown",
   "metadata": {},
   "source": [
    "Suponemos que cada punto es una dupla de números reales.\n",
    "\n",
    "**Explicación**  \n",
    "Recibimos una lista de puntos $S$ y lo que queremos es encontrar la pareja de puntos $p_1$ y $p_2$ son los puntos más cercanos. Entonces empezamos revisando si la longitud de esta lista es menor o igual a 3 y de ser así lo resuelve por fuerza bruta, sin embargo esto es constante debido a que sabemos la longitud de esta lista. Sino, entonces dividimos al espacio de puntos por la mitad, y encontramos la pareja más cercana en la división izquierda y en la división derecha recursivamente.  \n",
    "\n",
    "Ahora ya que se resolvió en la parte recursiva, dado que ya tenemos a los puntos más cercanos de cada lado, ahora podemos encontrar el mínimo de entre los dos lados y obtenemos una distancia $d$ mínima. Por lo tanto la distancia $d$ a la que están $p_1$ y $p_2$ puede ser la mínima, sin embargo necesitamos considerar una pareja que se encuentre dispersa sobre nuestro punto medio.\n",
    "\n",
    "Entonces sabemos que si existe una pareja con una distancia más pequeña que $d$ la cuál es dividida por la línea, entonces ambos puntos deben estar dentro de la distancia $d$ de la línea. Entonces creamos la lista $Sy$ en la cual guardaremos los puntos que se encuentran dentro de esta región \n",
    "\n",
    "$$\n",
    "\\text{Ix} [0] - \\text{min distance} [0] < \\text{y} [0] < \\text{x bar} + \\text{min distance} [0]\n",
    "$$\n",
    "\n",
    "\n",
    "y que a su vez se encuentran ordenados por la coordenada $y$ (para solo recorrer una vez) y así podemos deducir que si cualquier par de puntos en nuestra lista están más cerca en el espacio, entonces están igual de cerca en nuestra lista.\n",
    "\n",
    "Finalmente podemos regresar la distancia mínima entre dos puntos (los más cercanos) en nuestro arreglo creado $Sy$ dándonos la distancia mínima en todo el espacio de puntos.\n",
    "\n",
    "Por tanto la complejidad de nuestro algoritmo será:\n",
    "* Dividr los puntos en 2 sub-listas y posteriormente encontrar los puntos más cercanos basados en los límites calculados y ponerlos en un arreglo: O(n)\n",
    "* Encontrar el nuevo arreglo $Sy$ acorde al punto medio: O(n)\n",
    "* Ordenar por puntos: $O(n\\log n)$\n",
    "* Encontrar los puntos más cercanos: $O(n)$ (del arreglo $Sy$)\n",
    "\n",
    "Explicaremos por función:  \n",
    "* ```sort_cordinates()```:   Complejidad final $O(n\\log n)$ \n",
    "\n",
    "* ```euclidiana()```:   Complejidad final $O(1)$  \n",
    "\n",
    "* ```fuerza_bruta()```:   Complejidad final $O(n^2)$  \n",
    "\n",
    "* ```closest_par()```:   Complejidad final $O(n\\log n)$\n",
    "    * Línea 5-6 = $O(1)$   (Es constante porque sólo entra si la longitud de la lista es menor o igual a 3 y como sabemos esta longitud entonces la complejidad del algoritmo de fuerza bruta recae a $O(1)$).\n",
    "    * Línea 8 = $O(1)$\n",
    "    * Línea 10 = $O(n/2)$\n",
    "    * Línea 11 = $O(n/2)$\n",
    "    * Línea 13-14 = $O(1)$  (Suponiendo que obtener un elemento de una lista es constante)\n",
    "    * Línea 16-20 = $O(n)$\n",
    "    * Línea 22 = $\\text{T}(\\frac{n}{2})$ \n",
    "    * Línea 23 = $\\text{T}(\\frac{n}{2})$\n",
    "    * Línea 25-27 = $O(1)$  (Suponiendo que obtener un elemento de una lista es constante)\n",
    "    * Línea 29-31 = $O(n)$\n",
    "    * Línea 23-39 = $O(n)$\n",
    "\n",
    "    Por lo tanto vemos que nuestra relación de recurrencia para una longitud $n > 1$ es:  \n",
    "    $$ \n",
    "    \\begin{align*}\n",
    "        \\text{T}(n) &= Cn + \\text{T}(\\frac{n}{2}) + \\text{T}(\\frac{n}{2})\\\\\n",
    "        &= 2 \\text{T}(\\frac{n}{2}) + Cn\n",
    "    \\end{align*}\n",
    "    $$\n",
    "\n",
    "    Y utilizando nuestro **Teorema Maestro**, tenemos algo del estilo $aT(\\frac{n}{b}) + f(n)$ con:  \n",
    "    * $a$ = 2\n",
    "    * $b$ = 2\n",
    "    * $f(n)$ = n (lineal)\n",
    "\n",
    "    Así calculando el $c_{crit} = \\log_a b = \\log_2 2 = 1$. Y notando que $f(n) = O(n^{c_{crit}}) = O(n^1) = O(n)$, entonces como $f(n) = \\Theta (n^{c_{crit}}\\log ^{0} n)$ con $k=0$ y por tanto la complejidad de nuestro algoritmo será de:\n",
    "\n",
    "    $$\n",
    "    T(n) = \\Theta (n^{c_{crit}}\\log^{k+1} n) = \\Theta (n^{1}\\log n) = \\Theta (n\\log n)\n",
    "    $$\n",
    "\n",
    "    Es decir la complejidad de nuestro algoritmo es $\\Theta (n\\log n)$."
   ]
  },
  {
   "cell_type": "code",
   "execution_count": 26,
   "metadata": {},
   "outputs": [],
   "source": [
    "def sort_cordinates(S,x):\n",
    "    ''' \n",
    "    Función que ordena una lista de puntos en el plano 2D, que dependiendo de la variable x\n",
    "    se ordena por la coordenada x o por la coordenada y.\n",
    "    '''\n",
    "    X = []\n",
    "    if x == 1:\n",
    "        X = [xs for xs, ys in S]\n",
    "    else:\n",
    "        X = [ys for xs, ys in S]\n",
    "    indices = np.argsort(X, kind='Merge')\n",
    "    S_ = []\n",
    "    for i in indices:\n",
    "        S_.append(S[i])\n",
    "    return S_"
   ]
  },
  {
   "cell_type": "code",
   "execution_count": 27,
   "metadata": {},
   "outputs": [],
   "source": [
    "def euclidiana(x,y):\n",
    "    '''\n",
    "    Distancia de dos puntos representados como duplas de números reales. Utilizamos la \n",
    "    fórmula de la distancia euclidea. \n",
    "    '''\n",
    "    return sqrt((x[0] - y[0])**2 + (x[1] - y[1])**2)"
   ]
  },
  {
   "cell_type": "code",
   "execution_count": 28,
   "metadata": {},
   "outputs": [],
   "source": [
    "def fuerza_bruta(S):\n",
    "    '''\n",
    "    Un método por fuerza bruta regresa la mínima distancia\n",
    "    entre dos puntos de S \n",
    "    ''' \n",
    "    n = len(S)\n",
    "    distancia_minima = euclidiana(S[0], S[1])\n",
    "    par_buscado = (S[0], S[1])\n",
    "\n",
    "    if len(S) == 2:\n",
    "        return euclidiana(S[0], S[1]), (S[0], S[1])\n",
    "\n",
    "    for i in range(n):\n",
    "        for j in range(i+1,n):\n",
    "            distancia = euclidiana(S[i], S[j])\n",
    "            if distancia < distancia_minima:\n",
    "                distancia_minima = distancia\n",
    "                par_buscado = (S[i], S[j])                \n",
    "    return distancia_minima, par_buscado"
   ]
  },
  {
   "cell_type": "code",
   "execution_count": 29,
   "metadata": {},
   "outputs": [],
   "source": [
    "def closest_pair(Px,Py):\n",
    "    ''' \n",
    "    Método optimizado para regresar la mínima distancia entre dos puntos de S\n",
    "    '''\n",
    "    if len(Px) <= 3:\n",
    "        return fuerza_bruta(Px)\n",
    "\n",
    "    midpoint_x = len(Px) // 2\n",
    "\n",
    "    Ix = Px[:midpoint_x]\n",
    "    Fx = Px[midpoint_x:]\n",
    "    \n",
    "    medio_x = Px[midpoint_x]\n",
    "    Iy,Fy = [], []\n",
    "\n",
    "    for point in Py:\n",
    "        if point[0] < int(medio_x[0]):\n",
    "            Iy.append(point)\n",
    "        else:\n",
    "            Fy.append(point)\n",
    "    \n",
    "    min_distance_left = closest_pair(Ix, Iy)\n",
    "    min_distance_right = closest_pair(Fx, Fy)\n",
    "    \n",
    "    min_distance = min(min_distance_left, min_distance_right)  # Tupla con la distancia minima y los puntos\n",
    "    x_bar = Ix[-1][0]   # Obtenemos el valor del último punto de la primer mitad \n",
    "    Sy = []\n",
    "\n",
    "    for y in Py:\n",
    "        if x_bar - min_distance[0] < y[0] < x_bar + min_distance[0]:\n",
    "            Sy.append(y)\n",
    "    \n",
    "    for i in range(len(Sy) - 1):   \n",
    "        for j in range(i+1, min(i + 7, len(Sy))):   \n",
    "            points = Sy[i]\n",
    "            points_close = Sy[j]\n",
    "            distancia = euclidiana(points, points_close)\n",
    "            if distancia < min_distance[0]:\n",
    "                min_distance = distancia, (points, points_close)\n",
    "    \n",
    "    return min_distance"
   ]
  },
  {
   "cell_type": "code",
   "execution_count": 30,
   "metadata": {},
   "outputs": [
    {
     "name": "stdout",
     "output_type": "stream",
     "text": [
      "La distancia más pequeña es 1.0 entre los puntos p1 = (2, 3) y p2 = (2, 4)\n"
     ]
    }
   ],
   "source": [
    "P = [(2, 3), (12, 30), (40, 50), (5, 1), (12, 10),(3, 4), (7,2), (2,4)]\n",
    "P = sort_cordinates(P, True)\n",
    "distance, points = fuerza_bruta(P)\n",
    "print('La distancia más pequeña es',distance, 'entre los puntos p1 =', points[0], 'y p2 =', points[1])"
   ]
  },
  {
   "cell_type": "code",
   "execution_count": 31,
   "metadata": {},
   "outputs": [
    {
     "name": "stdout",
     "output_type": "stream",
     "text": [
      "La distancia más pequeña es 3.605551275463989 entre los puntos p1 = (5, 1) y p2 = (2, 3)\n"
     ]
    }
   ],
   "source": [
    "P = [(2, 3), (12, 30), (40, 50), (5, 1), (12, 10),(3, 4), (7,2), (2,4)]\n",
    "P = [(2, 3), (12, 30), (40, 50), (5, 1), (2,10)]\n",
    "Px = sort_cordinates(P, True)\n",
    "Py = sort_cordinates(P, False)\n",
    "dis, puntos = closest_pair(Px, Py)\n",
    "print('La distancia más pequeña es',dis, 'entre los puntos p1 =', puntos[0], 'y p2 =', puntos[1])"
   ]
  },
  {
   "cell_type": "markdown",
   "metadata": {
    "id": "4MoTBQBPUIjD"
   },
   "source": [
    "# Ejercicio 3\n",
    "\n",
    "Diseña un algoritmo de divide y vencerás que invierta un arreglo. Por ejemplo, $[1,2,3,4]$ se vuelve $[4,3,2,1]$."
   ]
  },
  {
   "cell_type": "markdown",
   "metadata": {
    "id": "GAuf2mU3UIjE"
   },
   "source": [
    "**Explicación**  \n",
    "Nuestro algoritmo recibe una lista $A$. Primeramente calculamos su longitud y dependiendo de ella regresamos la lista vacía, la misma lista por tener 1 elemento o bien dividimos el problema en 2, recursivamente llamamos a nuestra función con el inicio hasta la mitad de la lista y lo guardamos en una variable y también llamamos a nuestra función con la mitad de la lista hasta el final y lo guardamos en otra variable. Finalmente concatenamos primero la última variable con la primera variable (para invertir).\n",
    "\n",
    "**Demostración Complejidad**  \n",
    "Hagamos un análisis para posteriormente obtener nuestra función de recurrencia:  (Asumimos que la función ```len``` es constante y de un paso)\n",
    "* Línea 2: 1 OE\n",
    "* Línea 3: 2 OE + 1 OE = 3 OE\n",
    "    * Línea 4: 1 OE\n",
    "* Línea 5: 2 OE + 3 OE = 5 OE\n",
    "    * Línea 6: 3 OE\n",
    "* Línea 8: 3 OE\n",
    "* Línea 9: T($\\frac{n}{2}$) OE\n",
    "* Línea 10: T($\\frac{n}{2}$) OE\n",
    "* Línea 11: 4 OE\n",
    "\n",
    "Por lo tanto vemos que nuestra relación de recurrencia para una longitud $n > 1$ es:  \n",
    "$$ \n",
    "\\begin{align*}\n",
    "    \\text{T}(n) &= 10 + \\text{T}(\\frac{n}{2}) + \\text{T}(\\frac{n}{2})\\\\\n",
    "    &= 2 \\text{T}(\\frac{n}{2}) + 10\n",
    "\\end{align*}\n",
    "$$\n",
    "\n",
    "Y utilizando nuestro **Teorema Maestro**, tenemos algo del estilo $aT(\\frac{n}{b}) + f(n)$ con:  \n",
    "* $a$ = 2\n",
    "* $b$ = 2\n",
    "* $f(n)$ = 10  (constante)\n",
    "\n",
    "Así calculando el $c_{crit} = \\log_a b = \\log_2 2 = 1$. Y notando que $f(n) = O(n^c) = O(n^0) = O(1)$, entonces tenemos que $c<c_{crit}$, y por tanto la complejidad de nuestro algoritmo es de:\n",
    "\n",
    "$$\n",
    "T(n) = \\Theta (n^{c_{crit}}) = \\Theta (n^{1}) = \\Theta (n)\n",
    "$$\n",
    "\n",
    "Es decir la complejidad de nuestro algoritmo es lineal."
   ]
  },
  {
   "cell_type": "code",
   "execution_count": 32,
   "metadata": {
    "id": "_B_qrwilUIjE"
   },
   "outputs": [],
   "source": [
    "def reverse_array(A):\n",
    "    n = len(A)\n",
    "    if n == 0:\n",
    "        return []\n",
    "    elif n == 1:\n",
    "        return [A[0]]\n",
    "    else: \n",
    "        mitad = n//2\n",
    "        izq = reverse_array(A[0:mitad])\n",
    "        der = reverse_array(A[mitad:])\n",
    "        return(der + izq)"
   ]
  },
  {
   "cell_type": "code",
   "execution_count": 33,
   "metadata": {
    "id": "qmBLzq4BUIjE"
   },
   "outputs": [
    {
     "data": {
      "text/plain": [
       "[4, 3, 2, 1]"
      ]
     },
     "execution_count": 33,
     "metadata": {},
     "output_type": "execute_result"
    }
   ],
   "source": [
    "A = [1,2,3,4]\n",
    "reverse_array(A)"
   ]
  }
 ],
 "metadata": {
  "kernelspec": {
   "display_name": "Python 3.9.12 ('base')",
   "language": "python",
   "name": "python3"
  },
  "language_info": {
   "codemirror_mode": {
    "name": "ipython",
    "version": 3
   },
   "file_extension": ".py",
   "mimetype": "text/x-python",
   "name": "python",
   "nbconvert_exporter": "python",
   "pygments_lexer": "ipython3",
   "version": "3.9.12"
  },
  "orig_nbformat": 4,
  "vscode": {
   "interpreter": {
    "hash": "6c0cb1f488f15cea3c982386fe947dc4e34776dbf252a008d041bec8bc285b28"
   }
  }
 },
 "nbformat": 4,
 "nbformat_minor": 2
}
