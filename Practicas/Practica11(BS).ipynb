{
 "cells": [
  {
   "cell_type": "markdown",
   "metadata": {},
   "source": [
    "# Práctica 11 (Búsqueda Binaria)\n",
    "\n",
    "**Alumno:** Axel Daniel Malváez Flores\n",
    "\n",
    "**5to** Semestre"
   ]
  },
  {
   "cell_type": "markdown",
   "metadata": {},
   "source": [
    "# Ejercicios"
   ]
  },
  {
   "cell_type": "markdown",
   "metadata": {},
   "source": [
    "## Ejercicio 1\n",
    "\n",
    "Tenemos una lista **ordenada** $L$ de la forma:\n",
    "\n",
    "$$\n",
    "L = [L_0, L_1, L_2, \\ldots, L_{n-1}]\n",
    "$$\n",
    "\n",
    "Ahora, producimos una lista $L'$ *rotando* a la lista $L$ original $k$ posiciones:\n",
    "\n",
    "$$\n",
    "L' = [L_k, L_{k+1}, \\ldots, L_{n-1}, L_0, L_1, \\ldots, L_{k-1}]\n",
    "$$\n",
    "\n",
    "Por ejemplo, si $L=[1,3,5,7,9]$ y $k=2$:\n",
    "\n",
    "$$\n",
    "L' = [5, 7, 9, 1, 3]\n",
    "$$\n",
    "\n",
    "Dada una lista $L'$ rotada de la forma anterior, escribe una función que determine si un cierto elemento $x$ está contenido en ella. Asume que no sabes el valor de $k$, i.e., no sabes cuánto fue rotada la lista. Tu solución debe de correr en tiempo $O(\\log n)$."
   ]
  },
  {
   "cell_type": "markdown",
   "metadata": {},
   "source": [
    "El algoritmo ```busca``` es recursivo y lo que hace es verificar en cada paso ciertas proposiciones que nos dirán si un elemento está en la lista o no. La primera es verificar si los pivotes dados ya no corresponden, es decir el pivote de abajo ya pasa al pivote de arriba y si esto sucede, significa que el elemento no se encuentra en la lista. Otra condición es si el subarreglo que llega desde el pivote de inicio hasta la mitad está ordenado y de ser así entonces pasamos a otra verificación secundaria en la cual verificamos si el elemento buscado se encuentra en este rango del inicio a la mitad, de no ser así entonces buscamos el elemento de la mitad al final. Si inicialmente el subarreglo del inicio a la mitad no se encontraba ordenado entonces verificamos si nuestra llave está entre la mitad y el final, se ser así buscamos en este subarrgelo, si resulta que el elemento no está en este rango, entonces buscamos del inicio a la mitad.\n",
    "\n",
    "Dado que solo puede entrar en una verificación, en cada paso se hace recursión una sóla vez con el rango de los pivotes reducido a la mitad, es decir tenemos algo del estilo \n",
    "\n",
    "$$\n",
    "T(\\frac{n}{2}) + O(1)\n",
    "$$\n",
    "\n",
    "Lo cual por teorema maestro con $c_{crit} = \\log_2 (1) = 0$, entramos en el segundo caso cuando $f(n) = \\Theta (n^{c_{crit}} \\log^{k}n)$, en este caso $f(n) = \\Theta (n^{0} \\log^{0}n)$ con $k = 0$, entonces $T(n) = \\Theta (n^{c_{crit}} \\log^{k+1} n) = \\Theta (\\log n)$"
   ]
  },
  {
   "cell_type": "code",
   "execution_count": 1,
   "metadata": {},
   "outputs": [],
   "source": [
    "def busca(arr, l, h, key):\n",
    "    # pivotes (utilizados por la recursión)\n",
    "    if l > h:\n",
    "        return -1\n",
    " \n",
    "    mid = (l + h) // 2\n",
    "    if arr[mid] == key:\n",
    "        return mid\n",
    "\n",
    "    # Verificamos si el subarreglo [l...mid] está ordenado\n",
    "    if arr[l] <= arr[mid]:\n",
    "        # Como este subarreglo está ordenado, podemos\n",
    "        # rápidamente checar si el número buscado se \n",
    "        # encuentra en una mitad o en la otra i.e. hacemos\n",
    "        # búsqueda binaria\n",
    "        if key >= arr[l] and key <= arr[mid]:\n",
    "            return busca(arr, l, mid-1, key)\n",
    "        return busca(arr, mid + 1, h, key)\n",
    " \n",
    "    # If arr[l..mid] is not sorted, then arr[mid... r]\n",
    "    # must be sorted\n",
    "    if key >= arr[mid] and key <= arr[h]:\n",
    "        return busca(arr, mid + 1, h, key)\n",
    "    return busca(arr, l, mid-1, key)"
   ]
  },
  {
   "cell_type": "code",
   "execution_count": 2,
   "metadata": {},
   "outputs": [],
   "source": [
    "def busca_rotada(L, key):\n",
    "    l = 0\n",
    "    h = len(L)-1\n",
    "    x = busca(L, l, h, key)\n",
    "    if x == -1:\n",
    "        return print('No se encuentra el número en el arreglo')\n",
    "    return print(f'Se encuentra el número {key} en la posición {x}')"
   ]
  },
  {
   "cell_type": "code",
   "execution_count": 3,
   "metadata": {},
   "outputs": [
    {
     "name": "stdout",
     "output_type": "stream",
     "text": [
      "Se encuentra el número 6 en la posición 9\n"
     ]
    }
   ],
   "source": [
    "L = [7,8,9,0,1,2,3,4,5,6]\n",
    "busca_rotada(L, 6)"
   ]
  },
  {
   "cell_type": "markdown",
   "metadata": {},
   "source": [
    "## Ejercicio 2\n",
    "\n",
    "Tenemos una lista ordenada $L$. Cada elemento de $L$ aparece **dos** veces, con la excepción de un único elemento; este aparece solo una vez. Escribe una función que encuentre dicho elemento. Esta debe de correr en tiempo $O(\\log n)$, y espacio $O(1)$."
   ]
  },
  {
   "cell_type": "markdown",
   "metadata": {},
   "source": [
    "**Explicación**  \n",
    "Notemos que el algoritmo siempre será de longitud impar, pues tenemos $2n + 1$ elementos, pues todos menos uno se repiten. Por esta razón al dividir el arreglo en dos mitades tendremos una mitad de longitud par y otra de longitud impar, con esta idea nos daremos cuenta en cuál de las mitades está el elemento que no se repite. Verificaremos si la primera mitad (izquierda) tiene todos sus elementos duplicados esto quiere decir que el último índice de la primer mitad es impar (pues empezamos a contar índices desde 0), y pasa el caso contrario con la otra mitad (derecha) es decir si esta mitad es de longitud par, el primer índice será impar. Así con la ayuda de dos pivotes **inicio** y **fin** situados incialmente en el primer y útlimo elemento de la lista haremos un ciclo el cuál se detendrá si el inicio es mayor al final o si llegamos al último elemento de la lista, en cada iteración se calcula la mitad del arreglo (Búsqueda Binaria) y haremos una verificación la haremos para utilizar el subarreglo que tiene al elemento sin repetir. El algoritmo termina regresando el elemento de la lista en la posición del pivote **inicio**.  \n",
    "\n",
    "**Complejidad del algortimo**  \n",
    "*Tiempo:* Notemos que en cada iteración, el algoritmo va disminuyendo la longitud del arreglo por la mitad, entonces la complejidad en el peor caso es al igual que la busqueda binaria, $O(logn)$.  \n",
    "*Espacio:* Dado que solo utilizamos dos variables *inicio* y *fin*, la complejidad en espacio es constante, i.e. $O(1)$."
   ]
  },
  {
   "cell_type": "code",
   "execution_count": 9,
   "metadata": {},
   "outputs": [],
   "source": [
    "def encuentra_unico(L):\n",
    "    # definimos pivotes\n",
    "    inicio = 0\n",
    "    fin = len(L)\n",
    "    while (inicio <= fin):\n",
    "        mitad = (inicio + fin) // 2\n",
    "        if mitad == len(L)-1:\n",
    "            break\n",
    "        aux = 0\n",
    "        if mitad%2 == 0:\n",
    "            aux = mitad + 1\n",
    "        else:\n",
    "            aux = mitad - 1\n",
    "        \n",
    "        if (L[mitad] == L[aux]):\n",
    "            inicio = mitad + 1\n",
    "        else:\n",
    "            fin = mitad - 1\n",
    "     \n",
    "    return L[inicio]"
   ]
  },
  {
   "cell_type": "code",
   "execution_count": 10,
   "metadata": {},
   "outputs": [
    {
     "data": {
      "text/plain": [
       "4"
      ]
     },
     "execution_count": 10,
     "metadata": {},
     "output_type": "execute_result"
    }
   ],
   "source": [
    "L = [1,1,2,2,3,3,4]\n",
    "encuentra_unico(L)"
   ]
  },
  {
   "cell_type": "markdown",
   "metadata": {},
   "source": [
    "## Ejercicio 3\n",
    "\n",
    "Dada una lista de números $L$, escribe una función que regrese el largo de la sublista creciente más larga. Por ejemplo, si \n",
    "\n",
    "$$\n",
    "L = [6, 7, 2, 3, 4, 1, -2]\n",
    "$$\n",
    "\n",
    "La subslita creciente más grande es $[2, 3, 4]$; por lo tanto, la función debe de regresar 3.\n",
    "\n",
    "Tu función debe de correr en tiempo $O(n\\log n)$."
   ]
  },
  {
   "cell_type": "markdown",
   "metadata": {},
   "source": [
    "El algoritmo corre en tiempo $O(n \\log n)$. Analicemos su complejidad:\n",
    "\n",
    "* Líneas 2-4 : $O(1)$\n",
    "* Línea 5 : $O(n)$\n",
    "    * Línea 6-10 : $O(1)$ (Suponiendo que agregar a una lista toma tiempo constante)\n",
    "    * Línea 11-18 : $O(1)$ (Suponiendo que agregar a una lista toma tiempo constante)\n",
    "* Línea 19: $O(n\\log n)$ (Pues python utiliza Timsort y el peor caso en complejidad de este algoritmo se da en $O(n\\log n)$)"
   ]
  },
  {
   "cell_type": "code",
   "execution_count": 6,
   "metadata": {},
   "outputs": [],
   "source": [
    "def long_sublistas(L):\n",
    "    longitudes = []\n",
    "    sub_aux = []\n",
    "    anterior = L[0]\n",
    "    for i in L:\n",
    "        if i == L[-1]:\n",
    "            if anterior <= i:\n",
    "                longitudes.append(len(sub_aux) + 1)\n",
    "            else:\n",
    "                longitudes.append(1)\n",
    "        if anterior <= i:\n",
    "            sub_aux.append(i)\n",
    "            anterior = i\n",
    "        else:\n",
    "            longitudes.append(len(sub_aux))\n",
    "            sub_aux = []\n",
    "            sub_aux.append(i)\n",
    "            anterior = i\n",
    "    longi = sorted(longitudes, reverse=True)\n",
    "    return longi[0]"
   ]
  },
  {
   "cell_type": "code",
   "execution_count": 7,
   "metadata": {},
   "outputs": [
    {
     "name": "stdout",
     "output_type": "stream",
     "text": [
      "La longitud de la sublista creciente más larga de la lista [6, 7, 2, 3, 4, 1, -2] es 3\n",
      "La longitud de la sublista creciente más larga de la lista [6, 7, 2, 3, 4, 1, -2, 5, 6, 7, 8, 9, 10, 3, 2, 3, 3, 4, 5, 6, 7, 8] es 8\n"
     ]
    }
   ],
   "source": [
    "L = [6, 7, 2, 3, 4, 1, -2]\n",
    "print(f'La longitud de la sublista creciente más larga de la lista {L} es {long_sublistas(L)}')\n",
    "\n",
    "L = [6,7,2,3,4,1,-2, 5,6,7,8,9,10,3,2,3,3,4,5,6,7,8]\n",
    "print(f'La longitud de la sublista creciente más larga de la lista {L} es {long_sublistas(L)}')"
   ]
  }
 ],
 "metadata": {
  "kernelspec": {
   "display_name": "Python 3.9.12 ('base')",
   "language": "python",
   "name": "python3"
  },
  "language_info": {
   "codemirror_mode": {
    "name": "ipython",
    "version": 3
   },
   "file_extension": ".py",
   "mimetype": "text/x-python",
   "name": "python",
   "nbconvert_exporter": "python",
   "pygments_lexer": "ipython3",
   "version": "3.9.12"
  },
  "orig_nbformat": 4,
  "vscode": {
   "interpreter": {
    "hash": "6c0cb1f488f15cea3c982386fe947dc4e34776dbf252a008d041bec8bc285b28"
   }
  }
 },
 "nbformat": 4,
 "nbformat_minor": 2
}
