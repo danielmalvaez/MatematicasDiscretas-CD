{
 "cells": [
  {
   "cell_type": "markdown",
   "metadata": {},
   "source": [
    "# Práctica 12 (Backtracking)\n",
    "\n",
    "**Alumno:** Axel Daniel Malváez Flores\n",
    "\n",
    "**5to** Semestre"
   ]
  },
  {
   "cell_type": "markdown",
   "metadata": {
    "id": "6LT-dBXrMKSd"
   },
   "source": [
    "# Ejercicios\n",
    "\n",
    "## Ejercicio 1\n",
    "Dado un conjunto de palabras y un string, describe e implementa un algoritmo que permita contar cuántas oraciones diferentes puede formar la string en cuestión suponiendo que las únicas palabras que existen son las del conjunto inicial. Por ejemplo, si el conjunto de palabras es $\\{hola, ola, h\\}$, la string \"holah\" tiene dos posibles interpretaciones, una es \"hola h\", y la segunda \"h ola h\". Verifica tu algoritmo con: \n",
    "\n",
    "*   Conjunto de palabras `{a, as, tin, tinar, san, sana, atina, arce, ce, atinar}`, y la string \"atinarcesanas\".\n",
    "*   Conjunto de palabras `{i, like, ice, and, cream, icecream, man, go, mango}` y la string \"ilikeicecreamandmango\"."
   ]
  },
  {
   "cell_type": "markdown",
   "metadata": {
    "id": "XUxoUl52O785"
   },
   "source": [
    "**Explicación**  \n",
    "\n",
    "\n",
    "Usando un algoritmo de backtracking, podemos contar cuantas interpretaciones posibles tiene una palabra dado un conjunto. El algoritmo inicia iterando cada palabra del conjunto de palabras dado (**setWords**), en cada iteración verificamos si no tenemos elementos con la misma posición en la que estemos actualmente (para evitar tener aquellas en las que no había solución o ya se encontró) si estamos en la posición 0, reiniciamos nuestra lista de palabras usadas. Ahora si esta palabra de **setWords** es un prefijo de nuestro string inicial **s**, entonces añadimos esta palabra y la posición actual a la lista de palabras usadas. Esto se repetirá hasta que bien ya no queden palabras o ya tengamos que la posición ya es igual al largo de la palabra y por lo tango esta es una solución y la guardamos en la lista **res**.\n",
    "\n",
    "Finalmente la lista **res** tendrá las soluciones y la longitud de ella será la cantidad de interpretaciones."
   ]
  },
  {
   "cell_type": "code",
   "execution_count": 1,
   "metadata": {},
   "outputs": [],
   "source": [
    "# Función Auxiliar\n",
    "def isPrefix(w, s):\n",
    "    n = len(w)\n",
    "    m = len(s)\n",
    "    if n > m:\n",
    "        return False \n",
    "    else:\n",
    "        prefix = s[:n]\n",
    "        if prefix == w:\n",
    "            return True\n",
    "        else :\n",
    "            return False"
   ]
  },
  {
   "cell_type": "code",
   "execution_count": 2,
   "metadata": {},
   "outputs": [],
   "source": [
    "def count_sols(setWords, usedWords, string, position, res):\n",
    "    if position == len(string):\n",
    "        res.append(usedWords)\n",
    "    else:\n",
    "        for word in setWords:\n",
    "            # en esta parte eliminamos lo que esté almacenado\n",
    "            # si es que en el backtrack regresamos debido a no\n",
    "            # haber encontrado una solución\n",
    "            if position == 0:\n",
    "                usedWords = []\n",
    "            elif position != 0 and len(usedWords) > 0:\n",
    "                lst = []\n",
    "                i = 0\n",
    "                while usedWords[i][1] != position:\n",
    "                    lst.append(usedWords[i])\n",
    "                    i += 1\n",
    "                    if i == len(usedWords):\n",
    "                        break\n",
    "                usedWords = lst\n",
    "            if isPrefix(word, string[position:]):\n",
    "                usedWords.append((word, position))\n",
    "                count_sols(setWords, usedWords, string, position + len(word), res)"
   ]
  },
  {
   "cell_type": "code",
   "execution_count": 3,
   "metadata": {},
   "outputs": [
    {
     "name": "stdout",
     "output_type": "stream",
     "text": [
      "Se tienen 2 interpretaciones del string 'holah' y estas son:\n",
      "[[('hola', 0), ('h', 4)], [('h', 0), ('ola', 1), ('h', 4)]]\n"
     ]
    }
   ],
   "source": [
    "words = ['hola','ola','h']\n",
    "s = 'holah'\n",
    "usedWords = []\n",
    "res = []\n",
    "\n",
    "# Algoritmo de backtracking\n",
    "count_sols(words, usedWords, s, 0, res)\n",
    "\n",
    "print(f'Se tienen {len(res)} interpretaciones del string \\'{s}\\' y estas son:')\n",
    "print(res)"
   ]
  },
  {
   "cell_type": "markdown",
   "metadata": {},
   "source": [
    "pruebas"
   ]
  },
  {
   "cell_type": "code",
   "execution_count": 4,
   "metadata": {},
   "outputs": [
    {
     "name": "stdout",
     "output_type": "stream",
     "text": [
      "Se tienen 3 interpretaciones del string 'atinarcesanas' y estas son:\n",
      "[[('a', 0), ('tin', 1), ('arce', 4), ('san', 8), ('as', 11)], [('a', 0), ('tinar', 1), ('ce', 6), ('san', 8), ('as', 11)], [('atinar', 0), ('ce', 6), ('san', 8), ('as', 11)]]\n"
     ]
    }
   ],
   "source": [
    "words = ['a', 'as', 'tin', 'tinar', 'san', 'sana', 'atina', 'arce', 'ce', 'atinar']\n",
    "s = 'atinarcesanas'\n",
    "usedWords = []\n",
    "res = []\n",
    "\n",
    "# Algoritmo de backtracking\n",
    "count_sols(words, usedWords, s, 0, res)\n",
    "\n",
    "print(f'Se tienen {len(res)} interpretaciones del string \\'{s}\\' y estas son:')\n",
    "print(res)"
   ]
  },
  {
   "cell_type": "code",
   "execution_count": 5,
   "metadata": {},
   "outputs": [
    {
     "name": "stdout",
     "output_type": "stream",
     "text": [
      "Se tienen 4 interpretaciones del string 'ilikeicecreamandmango' y estas son:\n",
      "[[('i', 0), ('like', 1), ('ice', 5), ('cream', 8), ('and', 13), ('man', 16), ('go', 19)], [('i', 0), ('like', 1), ('ice', 5), ('cream', 8), ('and', 13), ('mango', 16)], [('i', 0), ('like', 1), ('icecream', 5), ('and', 13), ('man', 16), ('go', 19)], [('i', 0), ('like', 1), ('icecream', 5), ('and', 13), ('mango', 16)]]\n"
     ]
    }
   ],
   "source": [
    "words = ['i', 'like', 'ice', 'and', 'cream', 'icecream', 'man', 'go', 'mango']\n",
    "s = 'ilikeicecreamandmango'\n",
    "usedWords = []\n",
    "res = []\n",
    "\n",
    "# Algoritmo de backtracking\n",
    "count_sols(words, usedWords, s, 0, res)\n",
    "\n",
    "print(f'Se tienen {len(res)} interpretaciones del string \\'{s}\\' y estas son:')\n",
    "print(res)"
   ]
  },
  {
   "cell_type": "markdown",
   "metadata": {},
   "source": [
    "## Ejercicio 2\n",
    "Supón que ahora en el ejemplo 1 no se tienen tantas monedas como se deseen. Es decir, se tiene una lista $L$ de denominaciones posibles, y un entero $k$ que nos indica que tenemos exactamente $k$ monedas de cada denominación posible. Describe e implementa un algoritmo que permita contar de cuántas formas se puede formar un entero $n$ con monedas de las denominaciones dadas, y usando a lo más $k$ monedas de cada denominación."
   ]
  },
  {
   "cell_type": "markdown",
   "metadata": {
    "id": "n4yGil8IPIo4"
   },
   "source": [
    "**Explicación**  \n",
    "\n",
    "Utilizamos el algoritmo visto en clase para calcular las combinaciones de monedas que necesitamos para tener un número $n$ de dinero, con esta lista resultante del algoritmo anterior hicimos un nuevo algoritmo que dado un $k$ (correspondiente a la cantidad de monedas para cada denominación) iteramos la lista de combinaciones que nos regresa **count** y para cada elemento verificamos si es que la cantidad de monedas de cada denominación es menor a $k$ y de ser así es una combinación válida y la marcamos con la bandera **isValid** y agregamos a la lista de elementos válidos, de no ser así la bandera nos lo dirá. Finalmente regresamos la lista de válidos."
   ]
  },
  {
   "cell_type": "code",
   "execution_count": 6,
   "metadata": {},
   "outputs": [],
   "source": [
    "def count(L, k, combs, i=0, out=None):\n",
    "    if out is None:\n",
    "        out = []\n",
    "    if i >= len(L):\n",
    "        return 0\n",
    "    if k == 0:\n",
    "        combs.append(out)\n",
    "        return 1\n",
    "    if L[i] > k:\n",
    "        return count(L, k, combs, i+1, out)\n",
    "    else:\n",
    "        temp = out.copy()\n",
    "        temp.append(L[i])\n",
    "        return count(L, k-L[i], combs, i, temp) + count(L, k, combs, i+1, out)"
   ]
  },
  {
   "cell_type": "code",
   "execution_count": 7,
   "metadata": {},
   "outputs": [],
   "source": [
    "def count_k(L, n, k):\n",
    "    # Algoritmo que hace las combinaciones de monedas total\n",
    "    combs = []\n",
    "    count(L, n, combs)\n",
    "\n",
    "    # Algoritmo que nos deja aquellas con un número máximo de\n",
    "    # k monedas por cada denominación\n",
    "    valid = []\n",
    "    pos = {i:k for k,i in enumerate(L)}\n",
    "    isValid = True\n",
    "    for comb in combs:\n",
    "        rest = [k]*len(L)\n",
    "        for coin in comb:\n",
    "            if rest[pos[coin]] > 0:\n",
    "                rest[pos[coin]] -= 1\n",
    "                isValid = True\n",
    "            else:\n",
    "                isValid = False\n",
    "                break\n",
    "        if isValid == True:\n",
    "            valid.append(comb)\n",
    "    return valid"
   ]
  },
  {
   "cell_type": "code",
   "execution_count": 8,
   "metadata": {},
   "outputs": [
    {
     "name": "stdout",
     "output_type": "stream",
     "text": [
      "Hay un total de 5 combinaciones para un k = 2 y las cuales son:\n",
      "[[2, 2, 8], [2, 2, 4, 4], [2, 4, 6], [8, 4], [6, 6]]\n"
     ]
    }
   ],
   "source": [
    "L = [2, 8, 4, 6, 13]\n",
    "k = 2   # Para ver con distintas k solo cambiamos este valor\n",
    "combi = count_k(L, 12, k)\n",
    "print(f'Hay un total de {len(combi)} combinaciones para un k = {k} y las cuales son:')\n",
    "print(combi)"
   ]
  }
 ],
 "metadata": {
  "kernelspec": {
   "display_name": "Python 3.9.12 ('base')",
   "language": "python",
   "name": "python3"
  },
  "language_info": {
   "codemirror_mode": {
    "name": "ipython",
    "version": 3
   },
   "file_extension": ".py",
   "mimetype": "text/x-python",
   "name": "python",
   "nbconvert_exporter": "python",
   "pygments_lexer": "ipython3",
   "version": "3.9.12"
  },
  "orig_nbformat": 4,
  "vscode": {
   "interpreter": {
    "hash": "6c0cb1f488f15cea3c982386fe947dc4e34776dbf252a008d041bec8bc285b28"
   }
  }
 },
 "nbformat": 4,
 "nbformat_minor": 2
}
