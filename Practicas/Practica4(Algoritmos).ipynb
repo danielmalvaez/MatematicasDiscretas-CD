{
 "cells": [
  {
   "cell_type": "markdown",
   "metadata": {},
   "source": [
    "# Práctica 4 (Algoritmos)\n",
    "\n",
    "* **Autor:** Axel Daniel Malváez Flores\n",
    "* **Materia:** Matemáticas Discretas\n",
    "* 5to semestre de la Licenciatura en Ciencia de Datos"
   ]
  },
  {
   "cell_type": "code",
   "execution_count": 1,
   "metadata": {},
   "outputs": [],
   "source": [
    "# Librerías que utilizaremos\n",
    "import matplotlib.pyplot as plt\n",
    "import networkx as nx\n",
    "import numpy as np\n",
    "from collections import deque"
   ]
  },
  {
   "cell_type": "markdown",
   "metadata": {},
   "source": [
    "## Algoritmo DFS\n",
    "Implementado en el laboratorio"
   ]
  },
  {
   "cell_type": "code",
   "execution_count": 2,
   "metadata": {},
   "outputs": [],
   "source": [
    "def dfs(g, v, visited=None, dfs_path=None):\n",
    "    if visited is None:\n",
    "        visited = [False] * len(g.nodes)\n",
    "    \n",
    "    if dfs_path is None:\n",
    "        dfs_path = []\n",
    "        \n",
    "    visited[v] = True\n",
    "    dfs_path.append(v) # Aquí puede ir cualquier otra cosa\n",
    "    for u in g.adj[v]:\n",
    "        if not visited[u]:\n",
    "            dfs(g, u, visited, dfs_path)\n",
    "    return dfs_path"
   ]
  },
  {
   "cell_type": "markdown",
   "metadata": {},
   "source": [
    "## Caminos\n",
    "\n",
    "Algoritmos implementados en el laboratorio"
   ]
  },
  {
   "cell_type": "code",
   "execution_count": 3,
   "metadata": {},
   "outputs": [],
   "source": [
    "def bfs_parents(g, v):\n",
    "    parents = [None] * len(g.nodes)\n",
    "    parents[v] = v\n",
    "    \n",
    "    q = deque()\n",
    "    q.append(v)\n",
    "    \n",
    "    while(q):\n",
    "        u = q.popleft()\n",
    "        for w in g.adj[u]:\n",
    "            if parents[w] is None:\n",
    "                parents[w] = u\n",
    "                q.append(w)\n",
    "    parents[v] = None\n",
    "    return parents    \n",
    "\n",
    "def path(g, start, end):\n",
    "    parents = bfs_parents(g, start)\n",
    "    if parents[end] is None: # No están en la misma componente conexa\n",
    "        return []\n",
    "    else:\n",
    "        out = [end]\n",
    "        while parents[end] != start:\n",
    "            end = parents[end]\n",
    "            out.append(end)\n",
    "        out.append(start)\n",
    "    return out"
   ]
  },
  {
   "cell_type": "markdown",
   "metadata": {},
   "source": [
    "# Ejercicios"
   ]
  },
  {
   "cell_type": "markdown",
   "metadata": {},
   "source": [
    "## Ejercicio 1\n",
    "\n",
    "Escribe una función `furthest_vertex(G, v)` que, dada una gráfica `G` y un vértice `v` encuentre la distancia más corta desde `v` hasta todos los vértices de la gráfica, y regrese el vértice más alejado."
   ]
  },
  {
   "cell_type": "markdown",
   "metadata": {},
   "source": [
    "Utiizando una lista auxiliar `listLenPaths`, guardamos las parejas (longitud del camino más corto, i) donde dado un vértice $v$ calculamos con la función ya hecha $path$ el camino más corto desde $v$ hasta un vértice $i$ para todo $i$ vértice de la gráfica. Así después obtenemos el camino de longitud máxima y regresamos el vértice $j$ al que está asociado en la tupla."
   ]
  },
  {
   "cell_type": "code",
   "execution_count": 4,
   "metadata": {},
   "outputs": [
    {
     "data": {
      "image/png": "[encoded data removed]",
      "text/plain": [
       "<Figure size 432x288 with 1 Axes>"
      ]
     },
     "metadata": {},
     "output_type": "display_data"
    }
   ],
   "source": [
    "G = nx.gnp_random_graph(10, 1/5, seed=42)\n",
    "nx.draw(G, with_labels=True, font_weight='bold', font_color=\"white\")"
   ]
  },
  {
   "cell_type": "code",
   "execution_count": 5,
   "metadata": {},
   "outputs": [],
   "source": [
    "# Aquí va tu código\n",
    "def furthest_vertex(G, v): \n",
    "    listLenPaths = []\n",
    "    for i in list(G.nodes):\n",
    "        camino = path(G, v, i)\n",
    "        listLenPaths.append((len(camino), i))\n",
    "    mayor = 0\n",
    "    vertice = 0\n",
    "    for i in listLenPaths:\n",
    "        if i[0] > mayor:\n",
    "            mayor = i[0]\n",
    "            vertice = i[1]\n",
    "    return vertice"
   ]
  },
  {
   "cell_type": "code",
   "execution_count": 6,
   "metadata": {},
   "outputs": [
    {
     "data": {
      "text/plain": [
       "7"
      ]
     },
     "execution_count": 6,
     "metadata": {},
     "output_type": "execute_result"
    }
   ],
   "source": [
    "furthest_vertex(G, 5)"
   ]
  },
  {
   "cell_type": "markdown",
   "metadata": {},
   "source": [
    "## Ejercicio 2\n",
    "\n",
    "Escribe un algoritmo `num_connected(G)` que, dada una gráfica `G`, regrese el número de componentes conexas que tiene.\n"
   ]
  },
  {
   "cell_type": "markdown",
   "metadata": {},
   "source": [
    "Utilizamos la función `dfs` como auxiliar que nos devuelve un el recorrido DFS desde un vértice dado. Con esto en la función `num_connected` teniendo igual una lista de vértices visitados, mientras existan vértices sin visitar, haremos DFS, este nos regresará una lista de vértices que recorrió, estos ahora ya fueron visitados y contamos una componente, si aún existen vértices sin visitar, repetimos el proceso con DFS en ese vértice aún no visitado. Finalmente devolvemos la variable que nos contó las componentes."
   ]
  },
  {
   "cell_type": "code",
   "execution_count": 7,
   "metadata": {},
   "outputs": [],
   "source": [
    "def dfs(g, v, visited=None, dfs_path=None):\n",
    "    if visited is None:\n",
    "        visited = [False] * len(g.nodes)\n",
    "    \n",
    "    if dfs_path is None:\n",
    "        dfs_path = []\n",
    "        \n",
    "    visited[v] = True\n",
    "    dfs_path.append(v) # Aquí puede ir cualquier otra cosa\n",
    "    for u in g.adj[v]:\n",
    "        if not visited[u]:\n",
    "            dfs(g, u, visited, dfs_path)\n",
    "    return dfs_path"
   ]
  },
  {
   "cell_type": "code",
   "execution_count": 8,
   "metadata": {},
   "outputs": [],
   "source": [
    "def num_connected(G):\n",
    "    visited = [False]*len(G.nodes)\n",
    "    count = 0\n",
    "    while False in visited:\n",
    "        DFS = dfs(G, visited.index(False))\n",
    "        for i in DFS:\n",
    "            visited[i] = True\n",
    "        count += 1\n",
    "    return count"
   ]
  },
  {
   "cell_type": "code",
   "execution_count": 9,
   "metadata": {},
   "outputs": [
    {
     "data": {
      "text/plain": [
       "15"
      ]
     },
     "execution_count": 9,
     "metadata": {},
     "output_type": "execute_result"
    },
    {
     "data": {
      "image/png": "[encoded data removed]",
      "text/plain": [
       "<Figure size 432x288 with 1 Axes>"
      ]
     },
     "metadata": {},
     "output_type": "display_data"
    }
   ],
   "source": [
    "G = nx.gnp_random_graph(15, 1/199, seed=42)\n",
    "nx.draw(G, with_labels=True, font_weight='bold')\n",
    "num_connected(G)"
   ]
  },
  {
   "cell_type": "markdown",
   "metadata": {},
   "source": [
    "## Ejercicio 3\n",
    "\n",
    "Escribe una función `grid(m, n)` que, dados enteros `m`, `n`, genere una *gráfica de cuadrícula*. Cada vértice de la gráfica corresponde a una celda de la cuadrícula de tamaño $m\\times n$, y existe una arista entre cada par de celdas adyacentes.\n",
    "\n",
    "Compara tus resultados con `nx.grid_graph`."
   ]
  },
  {
   "cell_type": "code",
   "execution_count": 10,
   "metadata": {},
   "outputs": [],
   "source": [
    "def grid(m, n):\n",
    "    ''' \n",
    "    Función que recibe dos enteros y nos genera una gráfica en forma de reja (grid)\n",
    "    n - filas\n",
    "    m - columnas\n",
    "    '''\n",
    "    vert1 = [x for x in range(m*n)]\n",
    "    G = nx.Graph()\n",
    "    G.add_nodes_from(vert1)\n",
    "\n",
    "    # aristas en filas\n",
    "    contador = 0\n",
    "    for i in range(n):\n",
    "        for j in range(m-1):\n",
    "            G.add_edge(contador, contador + 1)\n",
    "            contador += 1\n",
    "        contador += 1\n",
    "    \n",
    "    # aristas en columnas\n",
    "    for i in range(m):\n",
    "        contador = i\n",
    "        for j in range (n-1):\n",
    "            G.add_edge(contador, contador+5)\n",
    "            contador += 5\n",
    "\n",
    "    fig, ax1 = plt.subplots(1, figsize=(6, 6))\n",
    "    return nx.draw(G ,with_labels=True,pos=nx.spring_layout(G), ax=ax1)"
   ]
  },
  {
   "cell_type": "markdown",
   "metadata": {},
   "source": [
    "Comparación:"
   ]
  },
  {
   "cell_type": "code",
   "execution_count": 11,
   "metadata": {},
   "outputs": [
    {
     "data": {
      "image/png": "[encoded data removed]",
      "text/plain": [
       "<Figure size 432x432 with 1 Axes>"
      ]
     },
     "metadata": {},
     "output_type": "display_data"
    }
   ],
   "source": [
    "grid(5,4)"
   ]
  },
  {
   "cell_type": "code",
   "execution_count": 12,
   "metadata": {},
   "outputs": [
    {
     "data": {
      "image/png": "[encoded data removed]",
      "text/plain": [
       "<Figure size 432x288 with 1 Axes>"
      ]
     },
     "metadata": {},
     "output_type": "display_data"
    }
   ],
   "source": [
    "H = nx.grid_graph([5,4])\n",
    "nx.draw(H, with_labels=True)"
   ]
  },
  {
   "cell_type": "markdown",
   "metadata": {},
   "source": [
    "## Ejercicio 4\n",
    "\n",
    "Escribe una función que `grid_to_graph(M)` convierta una matriz `M` (representada en Python como una lista de listas) a su equivalente gráfica de cuadrícula. Para esta tarea, cada entrada de la matriz será un número entero, y deberás de guardarlo en su correspondiente vértice bajo el atributo `value`. Adicionalmente, cada vértice debe de tener un nombre igual a su posición en la matriz, en la forma de una tupla.\n",
    "\n",
    "Escribe otra función `graph_to_grid(G, tl)` que haga lo opuesto, i.e., convierta la gráfica `G` a su matriz equivalente. Como la representación es ambigua, el argumento `tl` especifica cuál es el vértice correspondiente a la celda en la esquina superior izquierda de la matriz (i.e., la `(0,0)`)."
   ]
  },
  {
   "cell_type": "code",
   "execution_count": 13,
   "metadata": {},
   "outputs": [],
   "source": [
    "M = [\n",
    "    [1, 2],\n",
    "    [3, 4],\n",
    "    [5, 6]\n",
    "]"
   ]
  },
  {
   "cell_type": "markdown",
   "metadata": {},
   "source": [
    "La gráfica equivalente es:"
   ]
  },
  {
   "cell_type": "code",
   "execution_count": 14,
   "metadata": {},
   "outputs": [],
   "source": [
    "G = nx.Graph()\n",
    "G.add_nodes_from([\n",
    "    ((0, 0), {\"value\":1}), \n",
    "    ((0, 1), {\"value\":2}), \n",
    "    ((1, 0), {\"value\":3}), \n",
    "    ((1, 1), {\"value\":4}), \n",
    "    ((2, 0), {\"value\":5}), \n",
    "    ((2, 1), {\"value\":6})\n",
    "])\n",
    "G.add_edges_from([\n",
    "    ((0, 0), (0, 1)),\n",
    "    ((0, 0), (1, 0)),\n",
    "    ((0, 1), (1, 1)),\n",
    "    ((1, 0), (1, 1)),\n",
    "    ((1, 0), (2, 0)),\n",
    "    ((1, 1), (2, 1)),\n",
    "    ((2, 0), (2, 1))\n",
    "])"
   ]
  },
  {
   "cell_type": "markdown",
   "metadata": {},
   "source": [
    "Graficando el nombre y valor de cada vértice:"
   ]
  },
  {
   "cell_type": "code",
   "execution_count": 15,
   "metadata": {},
   "outputs": [
    {
     "data": {
      "image/png": "[encoded data removed]",
      "text/plain": [
       "<Figure size 432x288 with 1 Axes>"
      ]
     },
     "metadata": {},
     "output_type": "display_data"
    }
   ],
   "source": [
    "pos = {(i, j): (j, -i) for i in range(3) for j in range(2)}\n",
    "labels = {}\n",
    "for n in G.nodes:\n",
    "    val = G.nodes[n][\"value\"]\n",
    "    labels[n] = f\"name: {n}\\nvalue: {val}\"\n",
    "\n",
    "nx.draw(G, with_labels=True, pos=pos, labels=labels)"
   ]
  },
  {
   "cell_type": "code",
   "execution_count": 16,
   "metadata": {},
   "outputs": [],
   "source": [
    "def proy_as_grid(G, n, m):\n",
    "    ''' \n",
    "    Función que nos dibuja una gráfica G, con los\n",
    "    parámetros n y m especificados. Es para \n",
    "    dibujar una gráfica con forma de matriz\n",
    "    '''\n",
    "    pos = {(i, j): (j, -i) for i in range(n) for j in range(m)}\n",
    "    labels = {}\n",
    "    for n in G.nodes:\n",
    "        val = G.nodes[n][\"value\"]\n",
    "        labels[n] = f\"name: {n}\\nvalue: {val}\"\n",
    "\n",
    "    nx.draw(G, with_labels=True, pos=pos, labels=labels)"
   ]
  },
  {
   "cell_type": "code",
   "execution_count": 17,
   "metadata": {},
   "outputs": [],
   "source": [
    "def grid_to_graph(M):\n",
    "    '''\n",
    "    Función que dada una matriz, nos la convierte en un\n",
    "    objeto gráfica\n",
    "    '''\n",
    "    G = nx.Graph()\n",
    "    # Ya asignamos los nodos\n",
    "    for i in range(len(M)):\n",
    "        for j in range(len(M[0])):\n",
    "            G.add_node((i,j), value=M[i][j])\n",
    "    n = len(M) # filas\n",
    "    m = len(M[0]) # columnas\n",
    "    edges = []\n",
    "    # aristas en filas\n",
    "    for i in range(n):\n",
    "        for j in range(m-1):\n",
    "            edges.append(((i, j), (i, j+1)))\n",
    "    # aristas en columnas\n",
    "    for k in range(m):\n",
    "        for l in range(n-1):\n",
    "            edges.append(((l, k), (l+1, k)))\n",
    "    G.add_edges_from(edges)\n",
    "    return G"
   ]
  },
  {
   "cell_type": "code",
   "execution_count": 18,
   "metadata": {},
   "outputs": [
    {
     "data": {
      "image/png": "[encoded data removed]",
      "text/plain": [
       "<Figure size 432x288 with 1 Axes>"
      ]
     },
     "metadata": {},
     "output_type": "display_data"
    }
   ],
   "source": [
    "M = [\n",
    "    [1,2,3,4],\n",
    "    [5,6,7,8],\n",
    "    [9,10,11,12],\n",
    "    [13,14,15,16]\n",
    "]\n",
    "\n",
    "n = len(M) # filas\n",
    "m = len(M[0]) # columnas\n",
    "\n",
    "G = grid_to_graph(M)\n",
    "proy_as_grid(G,n,m)"
   ]
  },
  {
   "cell_type": "code",
   "execution_count": 19,
   "metadata": {},
   "outputs": [],
   "source": [
    "def graph_to_grid(G, tl):\n",
    "    ''' \n",
    "    Función inversa de grid_to_graph. Esta recibe una gráfica\n",
    "    al estilo matriz y la convierte en un array de numpy, es decir\n",
    "    una matriz.\n",
    "    ''' \n",
    "    nodos = G.nodes\n",
    "    valores = nx.get_node_attributes(G, 'value')\n",
    "    #valors = list(valores.items())\n",
    "    m = 0\n",
    "    while 1:\n",
    "        if (tl[0], m) not in nodos:\n",
    "            break\n",
    "        m += 1\n",
    "\n",
    "    n = 0\n",
    "    while 1:\n",
    "        if(n, tl[1]) not in nodos:\n",
    "            break\n",
    "        n += 1\n",
    "\n",
    "    val = []\n",
    "    for i in range(n):\n",
    "        for j in range(m):\n",
    "            val.append(valores[(i,j)])\n",
    "\n",
    "    x = np.array(val)\n",
    "    x = x.reshape((n,m))\n",
    "    return x"
   ]
  },
  {
   "cell_type": "code",
   "execution_count": 20,
   "metadata": {},
   "outputs": [
    {
     "data": {
      "text/plain": [
       "array([[ 1,  2,  3,  4],\n",
       "       [ 5,  6,  7,  8],\n",
       "       [ 9, 10, 11, 12],\n",
       "       [13, 14, 15, 16]])"
      ]
     },
     "execution_count": 20,
     "metadata": {},
     "output_type": "execute_result"
    }
   ],
   "source": [
    "graph_to_grid(G, (0,0))"
   ]
  },
  {
   "cell_type": "markdown",
   "metadata": {},
   "source": [
    "## Ejercicio 5\n",
    "\n",
    "Dada una matriz de 0s y 1s, donde los 0s representan agua y los 1s tierra, escribe un algoritmo de NetworkX que cuente el número de *islas* que hay. Una isla se define como un conjunto de celdas de tierra conectadas por alguno de sus cuatro lados. Deberás usar las funciones del ejercicio anterior para covnertir la matriz a una gráfica.\n",
    "\n",
    "Por ejemplo, consideremos la siguiente matriz:"
   ]
  },
  {
   "cell_type": "code",
   "execution_count": 21,
   "metadata": {},
   "outputs": [
    {
     "data": {
      "text/plain": [
       "<matplotlib.image.AxesImage at 0x7fdfdc9db970>"
      ]
     },
     "execution_count": 21,
     "metadata": {},
     "output_type": "execute_result"
    },
    {
     "data": {
      "image/png": "[encoded data removed]",
      "text/plain": [
       "<Figure size 432x288 with 1 Axes>"
      ]
     },
     "metadata": {
      "needs_background": "light"
     },
     "output_type": "display_data"
    }
   ],
   "source": [
    "M = np.zeros((10, 10))\n",
    "M[0, 0] = M[1, 0] = M[2, 0] = M[3, 0] = M[3, 1] = M[4, 1] = 1\n",
    "M[5, 5] = 1\n",
    "M[7, 0] = M[8, 0] = M[9, 0] = 1\n",
    "M[6, 6] = 1\n",
    "\n",
    "plt.imshow(M)"
   ]
  },
  {
   "cell_type": "markdown",
   "metadata": {},
   "source": [
    "Tu función debe de regresar **4** islas (nota que las dos islas de la derecha están separadas, ya que solo se tocan diagonalmente)."
   ]
  },
  {
   "cell_type": "markdown",
   "metadata": {},
   "source": [
    "La función principal es `num_islas`. La cual recibe una matriz (lista de listas), posteriormente con la función `grid_to_graph()`, hacemos la matriz una gráfica de *NetworkX* y verificamos para cada vértice, si su valor es 0, entonces eliminamos ese vértice (y sus aristas que inciden en él) y obtenemos una nueva gráfica sobre la cual iteraremos ahora. Si su valor no es 0, no hace nada, con esto finalmente tenemos una gráfica donde los vértices que quedan tienen valor 1 y puede que esta gráfica no sea conexa, por lo que llamamos a la función `num_connected2()` con la gráfica obtenida como argumento. Esta nueva función `num_connected2()`, lo que hace es tomar una gráfica y verificar cuantas componentes conexas tiene, hace uso de una función `dfs2()` que es una versión modificada de `dfs()`. Así finalmente el número de componentes conexas es el número de islas en la matriz."
   ]
  },
  {
   "cell_type": "code",
   "execution_count": 22,
   "metadata": {},
   "outputs": [],
   "source": [
    "# Aquí va tu función\n",
    "\n",
    "#Versión de dfs modificada\n",
    "def dfs2(g, v, visited=None, dfs_path=None):\n",
    "    #Llenamos un diccionario con nodos y su valor boolean\n",
    "    if visited is None:\n",
    "        visited = {}\n",
    "        for nodo in g.nodes:\n",
    "            visited[nodo] = False\n",
    "    \n",
    "    # creamos el camino\n",
    "    if dfs_path is None:\n",
    "        dfs_path = []\n",
    "    \n",
    "    #marcamos al vértice como visitado y lo agregamos al camino\n",
    "    visited[v] = True\n",
    "    dfs_path.append(v) # Aquí puede ir cualquier otra cosa\n",
    "    #hacemos recursión de dfs con cada vértice adyacente a v\n",
    "    for u in g.adj[v]:\n",
    "        if not visited[u]:\n",
    "            dfs2(g, u, visited, dfs_path)\n",
    "    return dfs_path"
   ]
  },
  {
   "cell_type": "code",
   "execution_count": 23,
   "metadata": {},
   "outputs": [],
   "source": [
    "# Versión modificada de num_connected()\n",
    "def num_connected2(G):\n",
    "    #Marcamos a todos los vértices como no visitados\n",
    "    visited = {}\n",
    "    for nodo in G.nodes:\n",
    "        visited[nodo] = False\n",
    "    #sacamos una lista de los items del diccionario (nodo, valor bool)\n",
    "    visitems = list(visited.items())\n",
    "    #sacamos una lista dada visitems con los valores bool únicamente\n",
    "    visiFalse = [y for x,y in visitems if y == False or y == True]\n",
    "    count = 0\n",
    "    #checamos el índice de donde aparece un False en la lista visiFalse\n",
    "    indice = visiFalse.index(False)\n",
    "    # Mientras existan vertices sin visitar\n",
    "    while False in visiFalse:\n",
    "        indice = visiFalse.index(False)\n",
    "        #Les aplicamos DFS al vértice sin visitar\n",
    "        DFS = dfs2(G, (visitems[indice])[0])\n",
    "        # Cambiamos en visited los vertices que DFS nos arroja y por \n",
    "        # tanto ya fueron visitados\n",
    "        for i in DFS:\n",
    "            visited[i] = True\n",
    "        # Actualizamos los valores de visitems y visiFalse\n",
    "        visitems = list(visited.items())\n",
    "        visiFalse = [y for x,y in visitems if y == False or y == True]\n",
    "        count += 1\n",
    "    return count"
   ]
  },
  {
   "cell_type": "code",
   "execution_count": 24,
   "metadata": {},
   "outputs": [],
   "source": [
    "def num_islas(M):\n",
    "    shape = M.shape\n",
    "    # Convertimos nuestro grid en una gráfica\n",
    "    G = grid_to_graph(M)\n",
    "    # Para cada nodo de G verificaremos:\n",
    "    for i in range(shape[0]):\n",
    "        for j in range(shape[1]):\n",
    "            # Si esta en G\n",
    "            if (i,j) in G.nodes:\n",
    "                # Sacamos los atributos de los nodos\n",
    "                valores = nx.get_node_attributes(G, 'value')\n",
    "                # Si su atributo valor del nodo es cero entonces lo removemos\n",
    "                if valores[(i,j)] == 0:\n",
    "                    G.remove_node((i,j))\n",
    "    # Contamos las componentes conexas de la gráfica resultante de eliminar\n",
    "    # vértices\n",
    "    n_islas = num_connected2(G)\n",
    "    return n_islas"
   ]
  },
  {
   "cell_type": "code",
   "execution_count": 25,
   "metadata": {},
   "outputs": [
    {
     "data": {
      "text/plain": [
       "4"
      ]
     },
     "execution_count": 25,
     "metadata": {},
     "output_type": "execute_result"
    }
   ],
   "source": [
    "num_islas(M)"
   ]
  }
 ],
 "metadata": {
  "kernelspec": {
   "display_name": "Python 3.9.12 ('base')",
   "language": "python",
   "name": "python3"
  },
  "language_info": {
   "codemirror_mode": {
    "name": "ipython",
    "version": 3
   },
   "file_extension": ".py",
   "mimetype": "text/x-python",
   "name": "python",
   "nbconvert_exporter": "python",
   "pygments_lexer": "ipython3",
   "version": "3.9.12"
  },
  "orig_nbformat": 4,
  "vscode": {
   "interpreter": {
    "hash": "6c0cb1f488f15cea3c982386fe947dc4e34776dbf252a008d041bec8bc285b28"
   }
  }
 },
 "nbformat": 4,
 "nbformat_minor": 2
}
