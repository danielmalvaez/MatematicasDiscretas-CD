{
 "cells": [
  {
   "cell_type": "markdown",
   "metadata": {},
   "source": [
    "# Práctica 6 (Complejidad Algoritmos)\n",
    "\n",
    "* **Autor:** Axel Daniel Malváez Flores\n",
    "* **Materia:** Matemáticas Discretas\n",
    "* 5to semestre de la Licenciatura en Ciencia de Datos"
   ]
  },
  {
   "cell_type": "code",
   "execution_count": 7,
   "metadata": {},
   "outputs": [],
   "source": [
    "import numpy as np\n",
    "import time\n",
    "import networkx as nx\n",
    "\n",
    "import matplotlib.pyplot as plt"
   ]
  },
  {
   "cell_type": "code",
   "execution_count": 8,
   "metadata": {},
   "outputs": [
    {
     "data": {
      "image/png": "[encoded data removed]",
      "text/plain": [
       "<Figure size 432x288 with 1 Axes>"
      ]
     },
     "metadata": {},
     "output_type": "display_data"
    }
   ],
   "source": [
    "G = nx.Graph()\n",
    "G.add_edge(1,2)\n",
    "G.add_edge(2,3)\n",
    "G.add_edge(4,1)\n",
    "G.add_edge(1,5)\n",
    "G.add_edge(5,3)\n",
    "nx.draw(G, with_labels=True)"
   ]
  },
  {
   "cell_type": "markdown",
   "metadata": {},
   "source": [
    "# Ejercicios"
   ]
  },
  {
   "cell_type": "markdown",
   "metadata": {},
   "source": [
    "## Ejercicio 1\n",
    "\n",
    "Como notamos en clase, la representación de matriz de adyacencia y lista de adyacencia es redundante para gráficas no-dirigidas. En el caso de la matriz de adyacencia, la siguiente matriz es equivalente a la de nuestro ejemplo:\n",
    "\n",
    "$$\n",
    "\\begin{pmatrix}\n",
    "0 & & & & \\\\\n",
    "1 & 0 & & & \\\\\n",
    "1 & 0 & 0 & & \\\\\n",
    "0 & 1 & 0 & 0 & \\\\\n",
    "1 & 0 & 0 & 1 & 0 \\\\\n",
    "\\end{pmatrix}\n",
    "$$\n",
    "\n",
    "Análogamente, nuestra lista de adyacencia puede reducirse a la siguiente forma:\n",
    "\n",
    "```\n",
    "0: 1, 2, 4\n",
    "1: 3\n",
    "2: \n",
    "3: 4\n",
    "4: \n",
    "```\n",
    "\n",
    "---\n",
    "\n",
    "Asumiendo que tenemos estas representaciones para una gráfica en general, explica cómo cambiaría (si es que lo hace) la complejidad en tiempo y espacio del algoritmo DFS."
   ]
  },
  {
   "cell_type": "markdown",
   "metadata": {},
   "source": [
    "Tenemos que nuestro algoritmo DFS es el siguiente:\n",
    "\n",
    "```\n",
    "def dfs(g, v, visited=None):\n",
    "    if visited is None:\n",
    "        visited = [False] * len(g.nodes)\n",
    "        \n",
    "    visited[v] = True\n",
    "    print(v) # Aquí puede ir cualquier otra cosa\n",
    "    for u in g.adj[v]:\n",
    "        if not visited[u]:\n",
    "            dfs(g, u, visited)\n",
    "```\n",
    "\n",
    "### Matriz de Adyacencia\n",
    "\n",
    "Para la matriz de adyacencia primero notemos que si tenemos la matriz de la siguiente forma no funciona si tomamos a los vecinos por filas, en este caso deberían de ser por columnas así la matriz es\n",
    "\n",
    "$$\n",
    "\\begin{pmatrix}\n",
    "0 & & & & \\\\\n",
    "1 & 0 & & & \\\\\n",
    "1 & 0 & 0 & & \\\\\n",
    "0 & 1 & 0 & 0 & \\\\\n",
    "1 & 0 & 0 & 1 & 0 \\\\\n",
    "\\end{pmatrix}\n",
    "$$\n",
    "\n",
    "entonces, para poder operar con matrices de este tipo tendremos dos casos, el **primero** es simplemente asignar a los lugares donde no hay valores, ceros, para que al momento de obtener a los vecinos de un vértice, obtengamos la columna correspondiente a ese vértice, un ejemplo con la matriz anterior es el siguiente:\n",
    "\n",
    "$$\n",
    "\\begin{pmatrix}\n",
    "0 & 0 & 0 & 0 & 0 \\\\\n",
    "1 & 0 & 0 & 0 & 0 \\\\\n",
    "1 & 0 & 0 & 0 & 0 \\\\\n",
    "0 & 1 & 0 & 0 & 0 \\\\\n",
    "1 & 0 & 0 & 1 & 0 \\\\\n",
    "\\end{pmatrix}\n",
    "$$\n",
    "\n",
    "* Tiempo: La complejidad en tiempo en el peor caso seguría siendo $O(n^2)$ debido a que para conocer los vecinos de un nodo, tenemos que seguir revisando cada entrada de la columna correspondiente a ese nodo en la matriz lo cual toma $O(n)$ y como se hace para cada nodo en la gráfica entonces de ahí concluimos el $O(n^2)$, no obstante tenemos que el número de iteraciones del ```for``` e ```if``` que realiza el algoritmo es menor que si utilizamos una matriz simétrica.\n",
    "\n",
    "para el **segundo** caso tenemos que si nuestra matriz en lugar de ser rellenada los valores faltantes con ceros, utilizamos el $NA$ de numpy, podemos obtener los vecinos de un nodo con un ciclo while que itere sobre la columna correspondiente a ese nodo de abajo hacia arriba y que pare hasta que se encuentre con un $NA$, un ejemplo de esta matriz es la siguiente:\n",
    "\n",
    "$$\n",
    "\\begin{pmatrix}\n",
    "0 & NA & NA & NA & NA \\\\\n",
    "1 & 0 & NA & NA & NA \\\\\n",
    "1 & 0 & 0 & NA & NA \\\\\n",
    "0 & 1 & 0 & 0 & NA \\\\\n",
    "1 & 0 & 0 & 1 & 0 \\\\\n",
    "\\end{pmatrix}\n",
    "$$\n",
    "\n",
    "\n",
    "* Tiempo: La complejidad en tiempo en el peor caso de este nuevo algoritmo está en que para el nodo $0$ tendremos que revisar cada entrada de la columna correspondiente a ese nodo lo cual se hace en $n$ operaciones, para el nodo $1$ revisaremos su entrada en la fila y nos tomará $n-1$ operaciones y así sucesivamente hasta llegar al nodo $n$ que hace $0$ operaciones, por lo que al sumar los pasos $n + (n-1) + (n-2) + ... + 1 + 0$ sabemos que es igual a $\\frac{n(n+1)}{2} = \\frac{n^2 + n}{2} = \\frac{1}{2} n^2 + n$ lo cual sigue siendo $O(n^2)$, por lo que la complejidad se mantiene, no obstante al obtener los vecinos no iteramos sobre toda la fila del nodo y además el número de iteraciones del ```for``` e ```if``` que realiza el algoritmo es menor que si utilizamos una matriz simétrica.\n",
    "\n",
    "En ambos casos resulta ser que la complejidad en espacio es:\n",
    "\n",
    "* Espacio: En el peor de los casos haremos $n$ llamadas recursivas anidadas (esto si nuestra gráfica resulta convertirse en una lista). Por lo que la altura máxima de la pila de llamadas es $n$ y por tanto la complejidad en espacio será $O(n)$.\n",
    "\n",
    "\n",
    "### Lista de Adyacencia\n",
    "\n",
    "* Tiempo: La complejidad en tiempo en el peor caso se da cuando tenemos una gráfica completa pues para obtener todos los vecinos del nodo $0$ tendremos que revisar cada entrada de su lista de nodos que serían $n-1$, para el nodo $1$ revisaríamos $n-2$ entradas y así sucesivamente hasa llegar al nodo $n$ que revisaríamos $0$ entradas, es decir revisamos en total $(n-1) + (n-2) + ... + 1 + 0$ entradas, pero esto sabemos que es $\\frac{(n-1)n}{2} = \\frac{n^2 - n}{2} = \\frac{1}{2} n^2 - n$ lo cual nos indica que sigue siendo de $O(n^2)$, por lo que la complejidad se mantiene, no obstante hacemos menos iteraciones en el ```for```e ```if ```.\n",
    "\n",
    "* Espacio: En el peor de los casos haremos $n$ llamadas recursivas anidadas (esto si nuestra gráfica resulta convertirse en una lista). Por lo que la altura máxima de la pila de llamadas es $n$ y por tanto la complejidad en espacio será $O(n)$."
   ]
  },
  {
   "cell_type": "markdown",
   "metadata": {},
   "source": [
    "## Ejercicio 2\n",
    "\n",
    "Podemos definir el máximo común divisor de $a$ y $b$ de manera recursiva de la siguiente manera:\n",
    "\n",
    "$$\n",
    "\\text{mcd}(a, b) = \n",
    "\\begin{cases}\n",
    "a, & \\text{si}\\ b=0 \\\\\n",
    "\\text{mcd}(b, a\\mod b), & \\text{en otro caso} \n",
    "\\end{cases}\n",
    "$$\n",
    "\n",
    "Escribe una función que utilice esta definición para calcular el MCD de manera recursiva. Posteriormente, escribe otra que lo haga de manera iterativa. Explica la complejidad en tiempo y espacio de ambas."
   ]
  },
  {
   "cell_type": "markdown",
   "metadata": {},
   "source": [
    "Recursivo"
   ]
  },
  {
   "cell_type": "code",
   "execution_count": 9,
   "metadata": {},
   "outputs": [],
   "source": [
    "def mcd_rec(a,b):\n",
    "    if b == 0:\n",
    "        return a\n",
    "    else:\n",
    "        return mcd_rec(b,a%b)"
   ]
  },
  {
   "cell_type": "markdown",
   "metadata": {},
   "source": [
    "Tenemos que el análisis del algoritmo es el siguiente:\n",
    "\n",
    "* Tiempo: Demostraremos que la complejidad del algoritmo es $O(log(min(a,b)))$  \n",
    "\n",
    "    Como este algoritmo termina cuando tenemos que b es 0 y lo que hace el algoritmo es ir reduciendo la entrada de $b$, entonces intuitivamente es ir reduciendo de una serie de números en uno anterior. Notemos que el peor caso que nos podemos encontrar es que tengamos que calcular el mcd dos números consecutivos de Fibonacci, pues estos son siempre primos relativos, es decir que 1 es su único divisor común. Esto pues si $a = F_{n+1}$ y $ b = F_n$ donde $F_n$ representa al número en la posición $n$ en la sucesión de Fibonacci, tenemos que:\n",
    "    $$ mcd(F_{n+1},F_n)=mcd(F_n,F_{n+1} \\ mod \\ F_n)$$\n",
    "    $$ = mcd(F_n,F_{n} + F_{n-1} \\ mod \\ F_n) $$\n",
    "    $$ = mcd(F_n,F_{n-1}) $$\n",
    "\n",
    "    Esta última igualdad se da ya que para todo $a,b$ enters, tenemos que $a+b \\ mod \\ \\ b = a \\ mod \\ b $. No obstante como sabemos que $F_{n-1} < F_n $ entonces por propiedades del módulo en particular del residuo, tenemos que $F_{n} + F_{n-1} \\ mod \\ F_n = F_{n-1} mod F_{n} = F_{n-1}$.  \n",
    "\n",
    "    Entonces tenemos que $mcd(F_{n+1},F_n)= mcd(F_n,F_{n-1})$, por lo que estaremos reduciendo a la sucesión de Fibonacci hasta que lleguemos a $b=0$ que es donde se detiene el algoritmo, y esto sucede hasta que $n=0$, es decir llegamos a $F_0 = 0$. Y al ir reduciendo de uno en uno entonces tenemos que la complejidad es de $O(n)$. No obstante como la sucesión de Fibonacci no es secuencial, entonces tenemos que basarnos en la complejidad del algoritmo que calcula esta serie.\n",
    "    \n",
    "\n",
    "    Como ya sabíamos la serie de Fibonacci se da por la siguiente fórmula:\n",
    "    $$\n",
    "    F_n = \\frac{(\\frac{1 + \\sqrt{5}}{2})^n - (\\frac{1- \\sqrt{5}}{2})^n}{\\sqrt{5}}\n",
    "    $$  \n",
    "\n",
    "    Tendremos que la complejidad de calcular $F_n$ es $O(\\varphi^n)$ donde $\\varphi$ es la proporción aurea y como sabemos que el número $F_n$ de Fibonacci es menor a $\\phi^n$, entonces $F_n \\leq  \\varphi^n$ lo que implica pues son equitativos a que $ n \\leq log_{\\varphi}(F_n)$. Por lo tanto como $n$ es menor o igual a $log_{\\varphi}(F_n)$ y como la complejidad de nuestro algoritmo de arriba es $O(n)$, a lo mucho $n$ es $log_{\\varphi}(F_n)$, por lo que la complejidad en el peor caso del algoritmo $mcd$ será de $O(log(n))$\n",
    "\n",
    "* Espacio: Como la pila de recursión crece tantas veces como llamamos a nuestro algoritmo y este tiene a lo más complejidad $O(log(n))$, entonces la complejidad en espacio será la misma."
   ]
  },
  {
   "cell_type": "markdown",
   "metadata": {},
   "source": [
    "Iterativo"
   ]
  },
  {
   "cell_type": "code",
   "execution_count": 10,
   "metadata": {},
   "outputs": [],
   "source": [
    "def mcd_iter(a,b):\n",
    "    while b != 0 :\n",
    "        a,b = b, a % b\n",
    "    return a"
   ]
  },
  {
   "cell_type": "markdown",
   "metadata": {},
   "source": [
    "* Tiempo: Como el algoritmo se detiene hasta que $b=0$ y al ir reduciendo a $b$ de manera similar, tendremos que el while se ejecutará en $O(log(n))$ pasos pues al igual que en el caso anterior, el peor caso para el algoritmo se da cuando $a$ y $b$ resultan ser números de Fibonacci consecutivos.\n",
    "\n",
    "* Espacio: En este caso dado que es iterativo nos fijamos en aquellas variables que estamos utilizando y al ser variables que solo guardan números, entonces tenemos que para el caso iterativo la complejidad en espacio es de $O(1)$"
   ]
  },
  {
   "cell_type": "markdown",
   "metadata": {},
   "source": [
    "## Ejercicio 3\n",
    "\n",
    "Escribe una función recursiva que determine si un *string* dado es un palíndromo o no. Luego, haz lo mismo de manera iterativa. Analiza la complejidad en tiempo y espacio de ambas."
   ]
  },
  {
   "cell_type": "markdown",
   "metadata": {},
   "source": [
    "Recursivo"
   ]
  },
  {
   "cell_type": "code",
   "execution_count": 11,
   "metadata": {},
   "outputs": [],
   "source": [
    "def es_palindromo_rec(a):\n",
    "    a = a.replace(' ','')\n",
    "    if len(a) == 1:\n",
    "        return print('Si es palíndromo')\n",
    "    elif len(a) == 0:\n",
    "        return print('Si es palíndromo')\n",
    "    else:\n",
    "        if a[0] == a[-1]:\n",
    "            aux = a[1:len(a) - 1]\n",
    "            es_palindromo_rec(aux)\n",
    "        else:\n",
    "            return print('No es palíndromo')"
   ]
  },
  {
   "cell_type": "markdown",
   "metadata": {},
   "source": [
    "* Tiempo: El número de pasos se da en función de la longitud de la cadena dada como entrada, si esta es $n$ (ya sin espacios) este algoritmo recursivo se ejecutará $n/2$ veces (esto en el caso de que la palabra sea palíndroma y cada iteración vaya acortando la cadena de dos en dos, entonces al analizar la nueva lista el algoritmo la cadena nueva tendrá longitud $n-2$ y después $n-4$ y así sucesivamente hasta llegar a una longitud 0 ó 1). Entonces haremos $n/2$ pasos y por lo tanto la complejidad del algoritmo será de $O(\\frac{n}{2}) = O(n)$.\n",
    "\n",
    "* Espacio: Como la pila de ejecución crece tantas veces como el peor caso en la cantidad de pasos ocurra, es decir ocurran $n/2$ pasos, por lo tanto la complejidad en espacio será de $O(\\frac{n}{2}) = O(n)$"
   ]
  },
  {
   "cell_type": "markdown",
   "metadata": {},
   "source": [
    "Iterativo"
   ]
  },
  {
   "cell_type": "code",
   "execution_count": 12,
   "metadata": {},
   "outputs": [],
   "source": [
    "def es_palindromo_iter(a):\n",
    "    a = a.replace(' ','')\n",
    "    inicio = 0 \n",
    "    fin = len(a) - 1\n",
    "    while inicio < fin :\n",
    "        if a[inicio] != a[fin] :\n",
    "            return print('No es un palíndromo.')\n",
    "        inicio += 1\n",
    "        fin -= 1\n",
    "    return print(f'Si es palíndromo.')"
   ]
  },
  {
   "cell_type": "markdown",
   "metadata": {},
   "source": [
    "* Tiempo: Notemos que el ciclo *while* tendrá a lo más $n/2$ iteraciones (esto pues vamos recortando la palabra de dos en dos en cada iteración por lo que al final llegaremos a una longitud de 1 ó 0) por lo que el algoritmo tendrá una complejidad de $O(\\frac{n}{2}) = O(n)$.\n",
    "    \n",
    "* Espacio: Como el algoritmo solo guarda las variables a, inicio y fin y además en el ciclo únicamente las actualizamos, entonces tenemos que la complejidad en espacio se mantiene en cada iteración y por tanto es constante, es decir de $O(1)$."
   ]
  }
 ],
 "metadata": {
  "kernelspec": {
   "display_name": "Python 3.9.12 ('base')",
   "language": "python",
   "name": "python3"
  },
  "language_info": {
   "codemirror_mode": {
    "name": "ipython",
    "version": 3
   },
   "file_extension": ".py",
   "mimetype": "text/x-python",
   "name": "python",
   "nbconvert_exporter": "python",
   "pygments_lexer": "ipython3",
   "version": "3.9.12"
  },
  "orig_nbformat": 4,
  "vscode": {
   "interpreter": {
    "hash": "6c0cb1f488f15cea3c982386fe947dc4e34776dbf252a008d041bec8bc285b28"
   }
  }
 },
 "nbformat": 4,
 "nbformat_minor": 2
}
