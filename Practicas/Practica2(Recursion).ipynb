{
 "cells": [
  {
   "cell_type": "markdown",
   "metadata": {},
   "source": [
    "# Práctica 2 (Recursión)\n",
    "\n",
    "* **Autor:** Axel Daniel Malváez Flores\n",
    "* **Materia:** Matemáticas Discretas\n",
    "* 5to semestre de la Licenciatura en Ciencia de Datos"
   ]
  },
  {
   "cell_type": "markdown",
   "metadata": {},
   "source": [
    "## Ejercicio 1 \n",
    "\n",
    "La función de Ackermann $A(m, n)$ está definida para $m, n$ positivos, como:\n",
    "\n",
    "$$\n",
    "\\begin{align}\n",
    "A(0, n) &= n+1\\\\\n",
    "A(m+1, 0) &= A(m, 1)\\\\\n",
    "A(m+1, n+1) &= A(m, A(m+1, n))\n",
    "\\end{align}\n",
    "$$\n",
    "\n",
    "Escribe una función que te permita calcularla para valores arbitrarios de $m, n$, y que regrese un error en caso de que $m$ o $n$ se salga del dominio.\n",
    "\n",
    "*¡Cuidado! Esta función crece extremadamente rápido. Si quieres probarla, ejecútala para valores muy pequeños de $m$ y $n$.*"
   ]
  },
  {
   "cell_type": "code",
   "execution_count": 32,
   "metadata": {},
   "outputs": [
    {
     "data": {
      "text/plain": [
       "3"
      ]
     },
     "execution_count": 32,
     "metadata": {},
     "output_type": "execute_result"
    }
   ],
   "source": [
    "def ackermann(m,n):\n",
    "    if m < 0 or n < 0:\n",
    "        print('Se requiere que m y n sean enteros positivos...')\n",
    "        return\n",
    "    if m == 0:\n",
    "        return n+1\n",
    "    elif m>0 and n == 0:\n",
    "        return ackermann(m-1, 1)\n",
    "    else:\n",
    "        return ackermann(m-1, ackermann(m,n-1))\n",
    "\n",
    "ackermann(1,1)"
   ]
  },
  {
   "cell_type": "markdown",
   "metadata": {},
   "source": [
    "## Ejercicio 2\n",
    "\n",
    "Muestra que al considerar la sucesión de Fibonacci módulo $n$, la sucesión obtenida se cicla desde el principio."
   ]
  },
  {
   "cell_type": "markdown",
   "metadata": {},
   "source": [
    "### Demostración\n",
    "Supongamos que tenemos la sucesión de Fibonacci y un entero positivo $n$. \n",
    "\n",
    "(0,1)...n),(m,)"
   ]
  },
  {
   "cell_type": "code",
   "execution_count": 25,
   "metadata": {},
   "outputs": [
    {
     "data": {
      "text/plain": [
       "8"
      ]
     },
     "execution_count": 25,
     "metadata": {},
     "output_type": "execute_result"
    }
   ],
   "source": [
    "res = [0, 1]\n",
    "cur = (1, 1)\n",
    "\n",
    "while cur != (1,0):\n",
    "    res.append(cur[1])\n",
    "    cur = (cur[1], (cur[0] + cur[1])%3)\n",
    "len(res)"
   ]
  },
  {
   "cell_type": "code",
   "execution_count": 2,
   "metadata": {},
   "outputs": [
    {
     "data": {
      "text/plain": [
       "[0, 1, 1, 2, 3]"
      ]
     },
     "execution_count": 2,
     "metadata": {},
     "output_type": "execute_result"
    }
   ],
   "source": [
    "def fibonacci(n):\n",
    "    if n < 1:\n",
    "        print('Selecciona una n mayor o igual a 1')\n",
    "        return\n",
    "    elif n == 1:\n",
    "        return [0]\n",
    "    else:\n",
    "        lst = [0,1]\n",
    "        for k in range(n-2):\n",
    "            lst.append(lst[k] + lst[k+1])\n",
    "        return lst\n",
    "\n",
    "fibonacci(5)"
   ]
  },
  {
   "cell_type": "code",
   "execution_count": 29,
   "metadata": {},
   "outputs": [
    {
     "name": "stdout",
     "output_type": "stream",
     "text": [
      "0 modulo 5 tiene residuo: 0\n",
      "1 modulo 5 tiene residuo: 1\n",
      "1 modulo 5 tiene residuo: 1\n",
      "2 modulo 5 tiene residuo: 2\n",
      "3 modulo 5 tiene residuo: 3\n",
      "5 modulo 5 tiene residuo: 0\n",
      "8 modulo 5 tiene residuo: 3\n",
      "13 modulo 5 tiene residuo: 3\n",
      "21 modulo 5 tiene residuo: 1\n",
      "34 modulo 5 tiene residuo: 4\n",
      "55 modulo 5 tiene residuo: 0\n",
      "89 modulo 5 tiene residuo: 4\n",
      "144 modulo 5 tiene residuo: 4\n",
      "233 modulo 5 tiene residuo: 3\n",
      "377 modulo 5 tiene residuo: 2\n",
      "610 modulo 5 tiene residuo: 0\n",
      "987 modulo 5 tiene residuo: 2\n",
      "1597 modulo 5 tiene residuo: 2\n",
      "2584 modulo 5 tiene residuo: 4\n",
      "4181 modulo 5 tiene residuo: 1\n",
      "6765 modulo 5 tiene residuo: 0\n",
      "10946 modulo 5 tiene residuo: 1\n",
      "17711 modulo 5 tiene residuo: 1\n",
      "28657 modulo 5 tiene residuo: 2\n",
      "46368 modulo 5 tiene residuo: 3\n",
      "75025 modulo 5 tiene residuo: 0\n",
      "121393 modulo 5 tiene residuo: 3\n",
      "196418 modulo 5 tiene residuo: 3\n",
      "317811 modulo 5 tiene residuo: 1\n",
      "514229 modulo 5 tiene residuo: 4\n"
     ]
    },
    {
     "data": {
      "text/plain": [
       "[0,\n",
       " 1,\n",
       " 1,\n",
       " 2,\n",
       " 3,\n",
       " 0,\n",
       " 3,\n",
       " 3,\n",
       " 1,\n",
       " 4,\n",
       " 0,\n",
       " 4,\n",
       " 4,\n",
       " 3,\n",
       " 2,\n",
       " 0,\n",
       " 2,\n",
       " 2,\n",
       " 4,\n",
       " 1,\n",
       " 0,\n",
       " 1,\n",
       " 1,\n",
       " 2,\n",
       " 3,\n",
       " 0,\n",
       " 3,\n",
       " 3,\n",
       " 1,\n",
       " 4]"
      ]
     },
     "execution_count": 29,
     "metadata": {},
     "output_type": "execute_result"
    }
   ],
   "source": [
    "def moduloFibo(n, modulous):\n",
    "    if n < 0:\n",
    "        print('La n no se encuentra en el dominio...')\n",
    "        return\n",
    "    lst = fibonacci(n)\n",
    "    lstAux = [0]*(len(lst))\n",
    "    for i in range(len(lst)):\n",
    "        lstAux[i] = lst[i] % modulous\n",
    "        print(f'{lst[i]} modulo {modulous} tiene residuo: {lst[i] % modulous}')\n",
    "    return lstAux\n",
    "\n",
    "moduloFibo(30,5)"
   ]
  },
  {
   "cell_type": "markdown",
   "metadata": {},
   "source": [
    "## Ejercicio 3\n",
    "\n",
    "(Reto, no obligatorio). Muestra que los ciclos de menor longitud en la sucesión de Fibonacci módulo $n$ tienen $1, 2$ o $4$ ceros."
   ]
  },
  {
   "cell_type": "code",
   "execution_count": null,
   "metadata": {},
   "outputs": [],
   "source": []
  }
 ],
 "metadata": {
  "kernelspec": {
   "display_name": "Python 3.9.12 ('base')",
   "language": "python",
   "name": "python3"
  },
  "language_info": {
   "codemirror_mode": {
    "name": "ipython",
    "version": 3
   },
   "file_extension": ".py",
   "mimetype": "text/x-python",
   "name": "python",
   "nbconvert_exporter": "python",
   "pygments_lexer": "ipython3",
   "version": "3.9.12"
  },
  "orig_nbformat": 4,
  "vscode": {
   "interpreter": {
    "hash": "6c0cb1f488f15cea3c982386fe947dc4e34776dbf252a008d041bec8bc285b28"
   }
  }
 },
 "nbformat": 4,
 "nbformat_minor": 2
}
