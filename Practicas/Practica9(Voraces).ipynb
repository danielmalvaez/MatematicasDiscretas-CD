{
 "cells": [
  {
   "cell_type": "markdown",
   "metadata": {},
   "source": [
    "# Práctica 9 (Algoritmos Voraces)\n",
    "\n",
    "**Alumno:** Axel Daniel Malváez Flores\n",
    "\n",
    "**5to** Semestre"
   ]
  },
  {
   "cell_type": "markdown",
   "metadata": {},
   "source": [
    "## Ejercicios"
   ]
  },
  {
   "cell_type": "markdown",
   "metadata": {},
   "source": [
    "### Ejercicio 1\n",
    "\n",
    "Tienes un conjunto de números reales en orden ascendente $S=\\{x_1, x_2, \\ldots, x_n\\}$. Diseña un algoritmo *greedy* que encuentre un conjunto $X$ de intervalos (cada uno de tamaño 2) más pequeño posible, tal que la unión de los intervalos contenga a todos los puntos. Tu solución debe de correr en tiempo $O(n)$.\n",
    "\n",
    "**Ejemplo:** Supón que $S={1.5, 2.0, 2.1, 5.7, 8.8, 9.1, 10.2}$. Entonces, el conjunto $X= \\{I_1, I_2, I_3\\}$, con:\n",
    "\n",
    "$$\n",
    "I_1 = [1.5, 3.5],\\qquad I_2 = [4, 6],\\qquad I_3=[8.7, 10.7]\n",
    "$$\n",
    "\n",
    "Es una solución al problema. Nota que existen otras soluciones, por ejemplo $I_2$ podría ser $[5.7, 7.7]$."
   ]
  },
  {
   "cell_type": "markdown",
   "id": "1ed59ca5-69cc-4eb3-b431-c7aeb4d67150",
   "metadata": {},
   "source": [
    "**Explicación y Demostración**\n",
    "\n",
    "El algoritmo inicia con tres variables, una lista donde guardaremos los intervalos y otra donde guardaremos el inicio del intervalo actual y el final del intervalo actual (2 unidades más). Posteriormente iteraremos sobre la lista de números $S$ y verificaremos si el número actual está dentro del intervalo, si está entonces continuamos con el siguiente número, si no está agregamos el intervalo a la lista de intervalos, por otro lado si el número es el último, agregamos el último intervalo a la lista.\n",
    "\n",
    "Demostración que corre en $O(n)$:\n",
    "* Línea 2: O(1)\n",
    "* Línea 3: O(1)\n",
    "* Línea 4: O(1)\n",
    "\n",
    "* Línea 5: O(n)\n",
    "    * Línea 6: O(1)\n",
    "    * Línea 7: O(1)\n",
    "    * Línea 8: O(1)\n",
    "    * Línea 9: O(1)\n",
    "    * Línea 11: O(1)\n",
    "    * Línea 12: O(1)\n",
    "    * Línea 13: O(1)\n",
    "* Línea 14: O(1)\n",
    "\n",
    "Suponiendo que agregar elementos a una lista con *append* toma tiempo $O(1)$, la complejidad total de nuestro algoritmo es de $O(n)$."
   ]
  },
  {
   "cell_type": "code",
   "execution_count": 65,
   "id": "ca924066-1bdc-4337-876d-39e8b39b5026",
   "metadata": {},
   "outputs": [],
   "source": [
    "def interval_cover(S):\n",
    "    intervalos = []\n",
    "    inicio = S[0]\n",
    "    fin = inicio + 2\n",
    "    for i in range(len(S)):\n",
    "        if S[i] == S[-1]:\n",
    "            intervalos.append([inicio, fin])\n",
    "        elif S[i] <= fin:\n",
    "            continue\n",
    "        else:\n",
    "            intervalos.append([inicio, fin])\n",
    "            inicio = S[i]\n",
    "            fin = inicio + 2\n",
    "    return intervalos"
   ]
  },
  {
   "cell_type": "code",
   "execution_count": 66,
   "metadata": {},
   "outputs": [
    {
     "data": {
      "text/plain": [
       "[[1.5, 3.5], [5.7, 7.7], [8.8, 10.8]]"
      ]
     },
     "execution_count": 66,
     "metadata": {},
     "output_type": "execute_result"
    }
   ],
   "source": [
    "S = [1.5,2.0, 2.1,5.7,8.8,9.1,10.2]\n",
    "inter = interval_cover(S)\n",
    "inter "
   ]
  },
  {
   "cell_type": "markdown",
   "id": "9a6b6bfc-0a93-4017-b6ff-3e1f5215dd6f",
   "metadata": {},
   "source": [
    "## Ejercicio 2\n",
    "\n",
    "* Tienes un conjunto de $n$ sustancias en forma de líquido. La sustancia $i$ tiene un valor total $v_i$, y un peso total $w_i$. \n",
    "* Tienes una mochila que puede aguantar un peso máximo $z$. \n",
    "* Puedes escoger cuánto de cada sustancia llevar (i.e., puedes escoger no llevar la sustancia $i$, o llevar solo la mitad, o un tercio, etc.) El valor de la parte que llevas es proporcional (i.e., si escoges $\\frac{w_i}{2}$ de la sustancia $i$, el valor correspondiente será $\\frac{v_i}{2}$)\n",
    "\n",
    "Diseña un algoritmo voraz que escoja las sustancias tal que el valor total se maximice. A este problema se le conoce como el **problema de la mochila continuo** (o **fraccional**)."
   ]
  },
  {
   "cell_type": "markdown",
   "metadata": {},
   "source": [
    "**Explicación**  \n",
    "Iniciamos atacando el problema, primero ordenando de mayor a menor aquellas sustancias tales que nos den mayor valor por unidad de peso ($\\frac{v_i}{w_i}$), esto con la ayuda de la función ```sort_by_benef_weig()```. Una vez ordenando los valores y los pesos de cada sustancia aplicamos nuestro algoritmo con la función ```knapsack_continuous()``` en donde, ya ordenados por valores máximos, iremos eligiendo y a la vez restando los pesos a nuestra capacidad de la mochila. Al final, el último valor será el fraccional el cuál tomaremos sólo una porción de este, para que abarquemos el total de la capacidad de la mochila."
   ]
  },
  {
   "cell_type": "code",
   "execution_count": 67,
   "metadata": {},
   "outputs": [],
   "source": [
    "import numpy as np\n",
    "\n",
    "import fractions\n",
    "np.set_printoptions(formatter={'all':lambda x: str(fractions.Fraction(x).limit_denominator())})"
   ]
  },
  {
   "cell_type": "code",
   "execution_count": 68,
   "metadata": {},
   "outputs": [],
   "source": [
    "def sort_by_benef_weig(W,V):\n",
    "    beneficios = []\n",
    "    V_1 = []\n",
    "    W_1 = []\n",
    "    for i in range(len(W)):\n",
    "        beneficios.append(V[i] / W[i])\n",
    "    indices = np.flip(np.argsort(beneficios))\n",
    "    for i in range(len(W)):\n",
    "        V_1.append(V[indices[i]])\n",
    "        W_1.append(W[indices[i]])\n",
    "    return W_1, V_1"
   ]
  },
  {
   "cell_type": "markdown",
   "metadata": {},
   "source": [
    "Comprobación de la función anterior"
   ]
  },
  {
   "cell_type": "code",
   "execution_count": 69,
   "metadata": {},
   "outputs": [
    {
     "name": "stdout",
     "output_type": "stream",
     "text": [
      "V:[50, 40, 29, 25, 30]\n",
      "W:[10, 19, 15, 17, 26]\n"
     ]
    }
   ],
   "source": [
    "V = [40, 25, 30, 50, 29]\n",
    "W = [19, 17, 26, 10, 15]\n",
    "\n",
    "W, V = sort_by_benef_weig(W, V)\n",
    "print(f'V:{V}')\n",
    "print(f'W:{W}')"
   ]
  },
  {
   "cell_type": "code",
   "execution_count": 70,
   "id": "ce35fe5d-f939-4150-9a16-024830ad78ca",
   "metadata": {},
   "outputs": [],
   "source": [
    "def knapsack_continuous(W, V, z):\n",
    "    W, V = sort_by_benef_weig(W, V)\n",
    "    n = len(V)\n",
    "    resto = z\n",
    "    i = 0\n",
    "    sol = [0.0]*n \n",
    "    while i < n and (W[i] <= resto):\n",
    "        sol[i] = 1\n",
    "        resto -= W[i]\n",
    "        i += 1\n",
    "    if i < n:\n",
    "        sol[i] = resto/W[i]\n",
    "    sol, W, V = np.array(sol), np.array(W), np.array(V)\n",
    "\n",
    "    return W, V, sol"
   ]
  },
  {
   "cell_type": "markdown",
   "metadata": {},
   "source": [
    "Comprobación de la función anterior"
   ]
  },
  {
   "cell_type": "code",
   "execution_count": 72,
   "metadata": {},
   "outputs": [
    {
     "name": "stdout",
     "output_type": "stream",
     "text": [
      "V:        [50 40 29 25 30]\n",
      "W:        [10 19 15 17 26]\n",
      "Solución: [1 1 1 6/17 0]\n"
     ]
    }
   ],
   "source": [
    "X = [40, 25, 30, 50, 29]\n",
    "Y = [19, 17, 26, 10, 15]\n",
    "z = 50\n",
    "\n",
    "W, V, sol = knapsack_continuous(Y, X, z)\n",
    "print(f'V:        {V}')\n",
    "print(f'W:        {W}')\n",
    "print(f'Solución: {sol}')"
   ]
  }
 ],
 "metadata": {
  "kernelspec": {
   "display_name": "Python 3.9.12 ('base')",
   "language": "python",
   "name": "python3"
  },
  "language_info": {
   "codemirror_mode": {
    "name": "ipython",
    "version": 3
   },
   "file_extension": ".py",
   "mimetype": "text/x-python",
   "name": "python",
   "nbconvert_exporter": "python",
   "pygments_lexer": "ipython3",
   "version": "3.9.12"
  },
  "orig_nbformat": 4,
  "vscode": {
   "interpreter": {
    "hash": "6c0cb1f488f15cea3c982386fe947dc4e34776dbf252a008d041bec8bc285b28"
   }
  }
 },
 "nbformat": 4,
 "nbformat_minor": 2
}
