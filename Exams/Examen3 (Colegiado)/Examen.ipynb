{
 "cells": [
  {
   "cell_type": "markdown",
   "metadata": {},
   "source": [
    "# Examen (Implementaciones)\n",
    "\n",
    "**Alumno:** Axel Daniel Malváez Flores  \n",
    "5to Semestre de Licenciatura en Ciencia de Datos"
   ]
  },
  {
   "cell_type": "code",
   "execution_count": 4,
   "metadata": {},
   "outputs": [],
   "source": [
    "def nine_digits(a, n):\n",
    "    L = [0]*n\n",
    "    i = 1\n",
    "    while i <= n:\n",
    "        x = i * a \n",
    "        x_cadena = str(x)\n",
    "        contador = 0\n",
    "        for c in x_cadena:\n",
    "            if 9 == int(c):\n",
    "                contador += 1\n",
    "        L[i-1] = contador\n",
    "        i += 1\n",
    "    L = sorted(L)\n",
    "    for j in range(0,len(L)-1):\n",
    "        if L[j] == L[j+1] and (L[j] != 0) and (L[j+1] != 0):\n",
    "            return True\n",
    "    return False"
   ]
  },
  {
   "cell_type": "code",
   "execution_count": 8,
   "metadata": {},
   "outputs": [
    {
     "data": {
      "text/plain": [
       "True"
      ]
     },
     "execution_count": 8,
     "metadata": {},
     "output_type": "execute_result"
    }
   ],
   "source": [
    "nine_digits(10000,5000)"
   ]
  }
 ],
 "metadata": {
  "kernelspec": {
   "display_name": "Python 3.9.12 ('base')",
   "language": "python",
   "name": "python3"
  },
  "language_info": {
   "codemirror_mode": {
    "name": "ipython",
    "version": 3
   },
   "file_extension": ".py",
   "mimetype": "text/x-python",
   "name": "python",
   "nbconvert_exporter": "python",
   "pygments_lexer": "ipython3",
   "version": "3.9.12"
  },
  "orig_nbformat": 4,
  "vscode": {
   "interpreter": {
    "hash": "6c0cb1f488f15cea3c982386fe947dc4e34776dbf252a008d041bec8bc285b28"
   }
  }
 },
 "nbformat": 4,
 "nbformat_minor": 2
}
